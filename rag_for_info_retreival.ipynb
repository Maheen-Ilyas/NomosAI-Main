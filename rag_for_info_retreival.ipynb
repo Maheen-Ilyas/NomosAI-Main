{
 "cells": [
  {
   "cell_type": "code",
   "execution_count": 5,
   "metadata": {},
   "outputs": [
    {
     "name": "stdout",
     "output_type": "stream",
     "text": [
      "Requirement already satisfied: chromadb in c:\\nomosai\\cuda\\lib\\site-packages (0.6.3)\n",
      "Requirement already satisfied: langchain in c:\\nomosai\\cuda\\lib\\site-packages (0.3.15)\n",
      "Requirement already satisfied: langchain-community in c:\\nomosai\\cuda\\lib\\site-packages (0.3.15)\n",
      "Requirement already satisfied: langchain-text-splitters in c:\\nomosai\\cuda\\lib\\site-packages (0.3.5)\n",
      "Requirement already satisfied: pypdf in c:\\nomosai\\cuda\\lib\\site-packages (5.1.0)\n",
      "Requirement already satisfied: langchain-groq in c:\\nomosai\\cuda\\lib\\site-packages (0.2.3)\n",
      "Requirement already satisfied: langchain_huggingface in c:\\nomosai\\cuda\\lib\\site-packages (0.1.2)\n",
      "Requirement already satisfied: transformers in c:\\nomosai\\cuda\\lib\\site-packages (4.48.1)\n",
      "Requirement already satisfied: sentence-transformers in c:\\nomosai\\cuda\\lib\\site-packages (3.3.1)\n",
      "Requirement already satisfied: build>=1.0.3 in c:\\nomosai\\cuda\\lib\\site-packages (from chromadb) (1.2.2.post1)\n",
      "Requirement already satisfied: pydantic>=1.9 in c:\\nomosai\\cuda\\lib\\site-packages (from chromadb) (2.10.5)\n",
      "Requirement already satisfied: chroma-hnswlib==0.7.6 in c:\\nomosai\\cuda\\lib\\site-packages (from chromadb) (0.7.6)\n",
      "Requirement already satisfied: fastapi>=0.95.2 in c:\\nomosai\\cuda\\lib\\site-packages (from chromadb) (0.115.6)\n",
      "Requirement already satisfied: uvicorn>=0.18.3 in c:\\nomosai\\cuda\\lib\\site-packages (from uvicorn[standard]>=0.18.3->chromadb) (0.34.0)\n",
      "Requirement already satisfied: numpy>=1.22.5 in c:\\nomosai\\cuda\\lib\\site-packages (from chromadb) (1.26.4)\n",
      "Requirement already satisfied: posthog>=2.4.0 in c:\\nomosai\\cuda\\lib\\site-packages (from chromadb) (3.9.0)\n",
      "Requirement already satisfied: typing_extensions>=4.5.0 in c:\\nomosai\\cuda\\lib\\site-packages (from chromadb) (4.12.2)\n",
      "Requirement already satisfied: onnxruntime>=1.14.1 in c:\\nomosai\\cuda\\lib\\site-packages (from chromadb) (1.20.1)\n",
      "Requirement already satisfied: opentelemetry-api>=1.2.0 in c:\\nomosai\\cuda\\lib\\site-packages (from chromadb) (1.29.0)\n",
      "Requirement already satisfied: opentelemetry-exporter-otlp-proto-grpc>=1.2.0 in c:\\nomosai\\cuda\\lib\\site-packages (from chromadb) (1.29.0)\n",
      "Requirement already satisfied: opentelemetry-instrumentation-fastapi>=0.41b0 in c:\\nomosai\\cuda\\lib\\site-packages (from chromadb) (0.50b0)\n",
      "Requirement already satisfied: opentelemetry-sdk>=1.2.0 in c:\\nomosai\\cuda\\lib\\site-packages (from chromadb) (1.29.0)\n",
      "Requirement already satisfied: tokenizers>=0.13.2 in c:\\nomosai\\cuda\\lib\\site-packages (from chromadb) (0.21.0)\n",
      "Requirement already satisfied: pypika>=0.48.9 in c:\\nomosai\\cuda\\lib\\site-packages (from chromadb) (0.48.9)\n",
      "Requirement already satisfied: tqdm>=4.65.0 in c:\\nomosai\\cuda\\lib\\site-packages (from chromadb) (4.67.1)\n",
      "Requirement already satisfied: overrides>=7.3.1 in c:\\nomosai\\cuda\\lib\\site-packages (from chromadb) (7.7.0)\n",
      "Requirement already satisfied: importlib-resources in c:\\nomosai\\cuda\\lib\\site-packages (from chromadb) (6.5.2)\n",
      "Requirement already satisfied: grpcio>=1.58.0 in c:\\nomosai\\cuda\\lib\\site-packages (from chromadb) (1.69.0)\n",
      "Requirement already satisfied: bcrypt>=4.0.1 in c:\\nomosai\\cuda\\lib\\site-packages (from chromadb) (4.2.1)\n",
      "Requirement already satisfied: typer>=0.9.0 in c:\\nomosai\\cuda\\lib\\site-packages (from chromadb) (0.15.1)\n",
      "Requirement already satisfied: kubernetes>=28.1.0 in c:\\nomosai\\cuda\\lib\\site-packages (from chromadb) (31.0.0)\n",
      "Requirement already satisfied: tenacity>=8.2.3 in c:\\nomosai\\cuda\\lib\\site-packages (from chromadb) (9.0.0)\n",
      "Requirement already satisfied: PyYAML>=6.0.0 in c:\\nomosai\\cuda\\lib\\site-packages (from chromadb) (6.0.2)\n",
      "Requirement already satisfied: mmh3>=4.0.1 in c:\\nomosai\\cuda\\lib\\site-packages (from chromadb) (5.0.1)\n",
      "Requirement already satisfied: orjson>=3.9.12 in c:\\nomosai\\cuda\\lib\\site-packages (from chromadb) (3.10.15)\n",
      "Requirement already satisfied: httpx>=0.27.0 in c:\\nomosai\\cuda\\lib\\site-packages (from chromadb) (0.28.1)\n",
      "Requirement already satisfied: rich>=10.11.0 in c:\\nomosai\\cuda\\lib\\site-packages (from chromadb) (13.9.4)\n",
      "Requirement already satisfied: SQLAlchemy<3,>=1.4 in c:\\nomosai\\cuda\\lib\\site-packages (from langchain) (2.0.37)\n",
      "Requirement already satisfied: aiohttp<4.0.0,>=3.8.3 in c:\\nomosai\\cuda\\lib\\site-packages (from langchain) (3.11.11)\n",
      "Requirement already satisfied: async-timeout<5.0.0,>=4.0.0 in c:\\nomosai\\cuda\\lib\\site-packages (from langchain) (4.0.3)\n",
      "Requirement already satisfied: langchain-core<0.4.0,>=0.3.31 in c:\\nomosai\\cuda\\lib\\site-packages (from langchain) (0.3.31)\n",
      "Requirement already satisfied: langsmith<0.4,>=0.1.17 in c:\\nomosai\\cuda\\lib\\site-packages (from langchain) (0.3.0)\n",
      "Requirement already satisfied: requests<3,>=2 in c:\\nomosai\\cuda\\lib\\site-packages (from langchain) (2.32.3)\n",
      "Requirement already satisfied: dataclasses-json<0.7,>=0.5.7 in c:\\nomosai\\cuda\\lib\\site-packages (from langchain-community) (0.6.7)\n",
      "Requirement already satisfied: httpx-sse<0.5.0,>=0.4.0 in c:\\nomosai\\cuda\\lib\\site-packages (from langchain-community) (0.4.0)\n",
      "Requirement already satisfied: pydantic-settings<3.0.0,>=2.4.0 in c:\\nomosai\\cuda\\lib\\site-packages (from langchain-community) (2.7.1)\n",
      "Requirement already satisfied: groq<1,>=0.4.1 in c:\\nomosai\\cuda\\lib\\site-packages (from langchain-groq) (0.15.0)\n",
      "Requirement already satisfied: huggingface-hub>=0.23.0 in c:\\nomosai\\cuda\\lib\\site-packages (from langchain_huggingface) (0.27.1)\n",
      "Requirement already satisfied: filelock in c:\\nomosai\\cuda\\lib\\site-packages (from transformers) (3.13.1)\n",
      "Requirement already satisfied: packaging>=20.0 in c:\\nomosai\\cuda\\lib\\site-packages (from transformers) (24.2)\n",
      "Requirement already satisfied: regex!=2019.12.17 in c:\\nomosai\\cuda\\lib\\site-packages (from transformers) (2024.11.6)\n",
      "Requirement already satisfied: safetensors>=0.4.1 in c:\\nomosai\\cuda\\lib\\site-packages (from transformers) (0.5.2)\n",
      "Requirement already satisfied: torch>=1.11.0 in c:\\nomosai\\cuda\\lib\\site-packages (from sentence-transformers) (2.5.1+cu124)\n",
      "Requirement already satisfied: scikit-learn in c:\\nomosai\\cuda\\lib\\site-packages (from sentence-transformers) (1.6.1)\n",
      "Requirement already satisfied: scipy in c:\\nomosai\\cuda\\lib\\site-packages (from sentence-transformers) (1.15.1)\n",
      "Requirement already satisfied: Pillow in c:\\nomosai\\cuda\\lib\\site-packages (from sentence-transformers) (11.0.0)\n",
      "Requirement already satisfied: aiohappyeyeballs>=2.3.0 in c:\\nomosai\\cuda\\lib\\site-packages (from aiohttp<4.0.0,>=3.8.3->langchain) (2.4.4)\n",
      "Requirement already satisfied: aiosignal>=1.1.2 in c:\\nomosai\\cuda\\lib\\site-packages (from aiohttp<4.0.0,>=3.8.3->langchain) (1.3.2)\n",
      "Requirement already satisfied: attrs>=17.3.0 in c:\\nomosai\\cuda\\lib\\site-packages (from aiohttp<4.0.0,>=3.8.3->langchain) (24.3.0)\n",
      "Requirement already satisfied: frozenlist>=1.1.1 in c:\\nomosai\\cuda\\lib\\site-packages (from aiohttp<4.0.0,>=3.8.3->langchain) (1.5.0)\n",
      "Requirement already satisfied: multidict<7.0,>=4.5 in c:\\nomosai\\cuda\\lib\\site-packages (from aiohttp<4.0.0,>=3.8.3->langchain) (6.1.0)\n",
      "Requirement already satisfied: propcache>=0.2.0 in c:\\nomosai\\cuda\\lib\\site-packages (from aiohttp<4.0.0,>=3.8.3->langchain) (0.2.1)\n",
      "Requirement already satisfied: yarl<2.0,>=1.17.0 in c:\\nomosai\\cuda\\lib\\site-packages (from aiohttp<4.0.0,>=3.8.3->langchain) (1.18.3)\n",
      "Requirement already satisfied: pyproject_hooks in c:\\nomosai\\cuda\\lib\\site-packages (from build>=1.0.3->chromadb) (1.2.0)\n",
      "Requirement already satisfied: colorama in c:\\nomosai\\cuda\\lib\\site-packages (from build>=1.0.3->chromadb) (0.4.6)\n",
      "Requirement already satisfied: tomli>=1.1.0 in c:\\nomosai\\cuda\\lib\\site-packages (from build>=1.0.3->chromadb) (2.2.1)\n",
      "Requirement already satisfied: marshmallow<4.0.0,>=3.18.0 in c:\\nomosai\\cuda\\lib\\site-packages (from dataclasses-json<0.7,>=0.5.7->langchain-community) (3.25.1)\n",
      "Requirement already satisfied: typing-inspect<1,>=0.4.0 in c:\\nomosai\\cuda\\lib\\site-packages (from dataclasses-json<0.7,>=0.5.7->langchain-community) (0.9.0)\n",
      "Requirement already satisfied: starlette<0.42.0,>=0.40.0 in c:\\nomosai\\cuda\\lib\\site-packages (from fastapi>=0.95.2->chromadb) (0.41.3)\n",
      "Requirement already satisfied: anyio<5,>=3.5.0 in c:\\nomosai\\cuda\\lib\\site-packages (from groq<1,>=0.4.1->langchain-groq) (4.7.0)\n",
      "Requirement already satisfied: distro<2,>=1.7.0 in c:\\nomosai\\cuda\\lib\\site-packages (from groq<1,>=0.4.1->langchain-groq) (1.9.0)\n",
      "Requirement already satisfied: sniffio in c:\\nomosai\\cuda\\lib\\site-packages (from groq<1,>=0.4.1->langchain-groq) (1.3.1)\n",
      "Requirement already satisfied: certifi in c:\\nomosai\\cuda\\lib\\site-packages (from httpx>=0.27.0->chromadb) (2024.12.14)\n",
      "Requirement already satisfied: httpcore==1.* in c:\\nomosai\\cuda\\lib\\site-packages (from httpx>=0.27.0->chromadb) (1.0.7)\n",
      "Requirement already satisfied: idna in c:\\nomosai\\cuda\\lib\\site-packages (from httpx>=0.27.0->chromadb) (3.10)\n",
      "Requirement already satisfied: h11<0.15,>=0.13 in c:\\nomosai\\cuda\\lib\\site-packages (from httpcore==1.*->httpx>=0.27.0->chromadb) (0.14.0)\n",
      "Requirement already satisfied: fsspec>=2023.5.0 in c:\\nomosai\\cuda\\lib\\site-packages (from huggingface-hub>=0.23.0->langchain_huggingface) (2024.2.0)\n",
      "Requirement already satisfied: six>=1.9.0 in c:\\nomosai\\cuda\\lib\\site-packages (from kubernetes>=28.1.0->chromadb) (1.17.0)\n",
      "Requirement already satisfied: python-dateutil>=2.5.3 in c:\\nomosai\\cuda\\lib\\site-packages (from kubernetes>=28.1.0->chromadb) (2.9.0.post0)\n",
      "Requirement already satisfied: google-auth>=1.0.1 in c:\\nomosai\\cuda\\lib\\site-packages (from kubernetes>=28.1.0->chromadb) (2.37.0)\n",
      "Requirement already satisfied: websocket-client!=0.40.0,!=0.41.*,!=0.42.*,>=0.32.0 in c:\\nomosai\\cuda\\lib\\site-packages (from kubernetes>=28.1.0->chromadb) (1.8.0)\n",
      "Requirement already satisfied: requests-oauthlib in c:\\nomosai\\cuda\\lib\\site-packages (from kubernetes>=28.1.0->chromadb) (2.0.0)\n",
      "Requirement already satisfied: oauthlib>=3.2.2 in c:\\nomosai\\cuda\\lib\\site-packages (from kubernetes>=28.1.0->chromadb) (3.2.2)\n",
      "Requirement already satisfied: urllib3>=1.24.2 in c:\\nomosai\\cuda\\lib\\site-packages (from kubernetes>=28.1.0->chromadb) (2.3.0)\n",
      "Requirement already satisfied: durationpy>=0.7 in c:\\nomosai\\cuda\\lib\\site-packages (from kubernetes>=28.1.0->chromadb) (0.9)\n",
      "Requirement already satisfied: jsonpatch<2.0,>=1.33 in c:\\nomosai\\cuda\\lib\\site-packages (from langchain-core<0.4.0,>=0.3.31->langchain) (1.33)\n",
      "Requirement already satisfied: requests-toolbelt<2.0.0,>=1.0.0 in c:\\nomosai\\cuda\\lib\\site-packages (from langsmith<0.4,>=0.1.17->langchain) (1.0.0)\n",
      "Requirement already satisfied: zstandard<0.24.0,>=0.23.0 in c:\\nomosai\\cuda\\lib\\site-packages (from langsmith<0.4,>=0.1.17->langchain) (0.23.0)\n",
      "Requirement already satisfied: coloredlogs in c:\\nomosai\\cuda\\lib\\site-packages (from onnxruntime>=1.14.1->chromadb) (15.0.1)\n",
      "Requirement already satisfied: flatbuffers in c:\\nomosai\\cuda\\lib\\site-packages (from onnxruntime>=1.14.1->chromadb) (25.1.21)\n",
      "Requirement already satisfied: protobuf in c:\\nomosai\\cuda\\lib\\site-packages (from onnxruntime>=1.14.1->chromadb) (5.29.3)\n",
      "Requirement already satisfied: sympy in c:\\nomosai\\cuda\\lib\\site-packages (from onnxruntime>=1.14.1->chromadb) (1.13.1)\n",
      "Requirement already satisfied: deprecated>=1.2.6 in c:\\nomosai\\cuda\\lib\\site-packages (from opentelemetry-api>=1.2.0->chromadb) (1.2.15)\n",
      "Requirement already satisfied: importlib-metadata<=8.5.0,>=6.0 in c:\\nomosai\\cuda\\lib\\site-packages (from opentelemetry-api>=1.2.0->chromadb) (8.5.0)\n",
      "Requirement already satisfied: googleapis-common-protos~=1.52 in c:\\nomosai\\cuda\\lib\\site-packages (from opentelemetry-exporter-otlp-proto-grpc>=1.2.0->chromadb) (1.66.0)\n",
      "Requirement already satisfied: opentelemetry-exporter-otlp-proto-common==1.29.0 in c:\\nomosai\\cuda\\lib\\site-packages (from opentelemetry-exporter-otlp-proto-grpc>=1.2.0->chromadb) (1.29.0)\n",
      "Requirement already satisfied: opentelemetry-proto==1.29.0 in c:\\nomosai\\cuda\\lib\\site-packages (from opentelemetry-exporter-otlp-proto-grpc>=1.2.0->chromadb) (1.29.0)\n",
      "Requirement already satisfied: opentelemetry-instrumentation-asgi==0.50b0 in c:\\nomosai\\cuda\\lib\\site-packages (from opentelemetry-instrumentation-fastapi>=0.41b0->chromadb) (0.50b0)\n",
      "Requirement already satisfied: opentelemetry-instrumentation==0.50b0 in c:\\nomosai\\cuda\\lib\\site-packages (from opentelemetry-instrumentation-fastapi>=0.41b0->chromadb) (0.50b0)\n",
      "Requirement already satisfied: opentelemetry-semantic-conventions==0.50b0 in c:\\nomosai\\cuda\\lib\\site-packages (from opentelemetry-instrumentation-fastapi>=0.41b0->chromadb) (0.50b0)\n",
      "Requirement already satisfied: opentelemetry-util-http==0.50b0 in c:\\nomosai\\cuda\\lib\\site-packages (from opentelemetry-instrumentation-fastapi>=0.41b0->chromadb) (0.50b0)\n",
      "Requirement already satisfied: wrapt<2.0.0,>=1.0.0 in c:\\nomosai\\cuda\\lib\\site-packages (from opentelemetry-instrumentation==0.50b0->opentelemetry-instrumentation-fastapi>=0.41b0->chromadb) (1.17.2)\n",
      "Requirement already satisfied: asgiref~=3.0 in c:\\nomosai\\cuda\\lib\\site-packages (from opentelemetry-instrumentation-asgi==0.50b0->opentelemetry-instrumentation-fastapi>=0.41b0->chromadb) (3.8.1)\n",
      "Requirement already satisfied: monotonic>=1.5 in c:\\nomosai\\cuda\\lib\\site-packages (from posthog>=2.4.0->chromadb) (1.6)\n",
      "Requirement already satisfied: backoff>=1.10.0 in c:\\nomosai\\cuda\\lib\\site-packages (from posthog>=2.4.0->chromadb) (2.2.1)\n",
      "Requirement already satisfied: annotated-types>=0.6.0 in c:\\nomosai\\cuda\\lib\\site-packages (from pydantic>=1.9->chromadb) (0.7.0)\n",
      "Requirement already satisfied: pydantic-core==2.27.2 in c:\\nomosai\\cuda\\lib\\site-packages (from pydantic>=1.9->chromadb) (2.27.2)\n",
      "Requirement already satisfied: python-dotenv>=0.21.0 in c:\\nomosai\\cuda\\lib\\site-packages (from pydantic-settings<3.0.0,>=2.4.0->langchain-community) (1.0.1)\n",
      "Requirement already satisfied: charset-normalizer<4,>=2 in c:\\nomosai\\cuda\\lib\\site-packages (from requests<3,>=2->langchain) (3.4.0)\n",
      "Requirement already satisfied: markdown-it-py>=2.2.0 in c:\\nomosai\\cuda\\lib\\site-packages (from rich>=10.11.0->chromadb) (3.0.0)\n",
      "Requirement already satisfied: pygments<3.0.0,>=2.13.0 in c:\\nomosai\\cuda\\lib\\site-packages (from rich>=10.11.0->chromadb) (2.18.0)\n",
      "Requirement already satisfied: greenlet!=0.4.17 in c:\\nomosai\\cuda\\lib\\site-packages (from SQLAlchemy<3,>=1.4->langchain) (3.1.1)\n",
      "Requirement already satisfied: networkx in c:\\nomosai\\cuda\\lib\\site-packages (from torch>=1.11.0->sentence-transformers) (3.2.1)\n",
      "Requirement already satisfied: jinja2 in c:\\nomosai\\cuda\\lib\\site-packages (from torch>=1.11.0->sentence-transformers) (3.1.5)\n",
      "Requirement already satisfied: mpmath<1.4,>=1.1.0 in c:\\nomosai\\cuda\\lib\\site-packages (from sympy->onnxruntime>=1.14.1->chromadb) (1.3.0)\n",
      "Requirement already satisfied: click>=8.0.0 in c:\\nomosai\\cuda\\lib\\site-packages (from typer>=0.9.0->chromadb) (8.1.8)\n",
      "Requirement already satisfied: shellingham>=1.3.0 in c:\\nomosai\\cuda\\lib\\site-packages (from typer>=0.9.0->chromadb) (1.5.4)\n",
      "Requirement already satisfied: httptools>=0.6.3 in c:\\nomosai\\cuda\\lib\\site-packages (from uvicorn[standard]>=0.18.3->chromadb) (0.6.4)\n",
      "Requirement already satisfied: watchfiles>=0.13 in c:\\nomosai\\cuda\\lib\\site-packages (from uvicorn[standard]>=0.18.3->chromadb) (1.0.4)\n",
      "Requirement already satisfied: websockets>=10.4 in c:\\nomosai\\cuda\\lib\\site-packages (from uvicorn[standard]>=0.18.3->chromadb) (14.2)\n",
      "Requirement already satisfied: joblib>=1.2.0 in c:\\nomosai\\cuda\\lib\\site-packages (from scikit-learn->sentence-transformers) (1.4.2)\n",
      "Requirement already satisfied: threadpoolctl>=3.1.0 in c:\\nomosai\\cuda\\lib\\site-packages (from scikit-learn->sentence-transformers) (3.5.0)\n",
      "Requirement already satisfied: exceptiongroup>=1.0.2 in c:\\nomosai\\cuda\\lib\\site-packages (from anyio<5,>=3.5.0->groq<1,>=0.4.1->langchain-groq) (1.2.2)\n",
      "Requirement already satisfied: cachetools<6.0,>=2.0.0 in c:\\nomosai\\cuda\\lib\\site-packages (from google-auth>=1.0.1->kubernetes>=28.1.0->chromadb) (5.5.1)\n",
      "Requirement already satisfied: pyasn1-modules>=0.2.1 in c:\\nomosai\\cuda\\lib\\site-packages (from google-auth>=1.0.1->kubernetes>=28.1.0->chromadb) (0.4.1)\n",
      "Requirement already satisfied: rsa<5,>=3.1.4 in c:\\nomosai\\cuda\\lib\\site-packages (from google-auth>=1.0.1->kubernetes>=28.1.0->chromadb) (4.9)\n",
      "Requirement already satisfied: zipp>=3.20 in c:\\nomosai\\cuda\\lib\\site-packages (from importlib-metadata<=8.5.0,>=6.0->opentelemetry-api>=1.2.0->chromadb) (3.21.0)\n",
      "Requirement already satisfied: jsonpointer>=1.9 in c:\\nomosai\\cuda\\lib\\site-packages (from jsonpatch<2.0,>=1.33->langchain-core<0.4.0,>=0.3.31->langchain) (3.0.0)\n",
      "Requirement already satisfied: mdurl~=0.1 in c:\\nomosai\\cuda\\lib\\site-packages (from markdown-it-py>=2.2.0->rich>=10.11.0->chromadb) (0.1.2)\n",
      "Requirement already satisfied: mypy-extensions>=0.3.0 in c:\\nomosai\\cuda\\lib\\site-packages (from typing-inspect<1,>=0.4.0->dataclasses-json<0.7,>=0.5.7->langchain-community) (1.0.0)\n",
      "Requirement already satisfied: humanfriendly>=9.1 in c:\\nomosai\\cuda\\lib\\site-packages (from coloredlogs->onnxruntime>=1.14.1->chromadb) (10.0)\n",
      "Requirement already satisfied: MarkupSafe>=2.0 in c:\\nomosai\\cuda\\lib\\site-packages (from jinja2->torch>=1.11.0->sentence-transformers) (3.0.2)\n",
      "Requirement already satisfied: pyreadline3 in c:\\nomosai\\cuda\\lib\\site-packages (from humanfriendly>=9.1->coloredlogs->onnxruntime>=1.14.1->chromadb) (3.5.4)\n",
      "Requirement already satisfied: pyasn1<0.7.0,>=0.4.6 in c:\\nomosai\\cuda\\lib\\site-packages (from pyasn1-modules>=0.2.1->google-auth>=1.0.1->kubernetes>=28.1.0->chromadb) (0.6.1)\n",
      "Note: you may need to restart the kernel to use updated packages.\n"
     ]
    }
   ],
   "source": [
    "%pip install chromadb langchain langchain-community langchain-text-splitters pypdf langchain-groq langchain_huggingface transformers sentence-transformers\n"
   ]
  },
  {
   "cell_type": "code",
   "execution_count": 6,
   "metadata": {},
   "outputs": [
    {
     "data": {
      "text/plain": [
       "True"
      ]
     },
     "execution_count": 6,
     "metadata": {},
     "output_type": "execute_result"
    }
   ],
   "source": [
    "# Environment Setup\n",
    "from dotenv import load_dotenv\n",
    "import os\n",
    "\n",
    "# Load environment variables from .env file\n",
    "load_dotenv()"
   ]
  },
  {
   "cell_type": "code",
   "execution_count": 7,
   "metadata": {},
   "outputs": [],
   "source": [
    "from langchain_community.document_loaders import PyPDFLoader\n",
    "from langchain_text_splitters import RecursiveCharacterTextSplitter\n",
    "from langchain_huggingface.embeddings import HuggingFaceEmbeddings\n",
    "from langchain_community.vectorstores import Chroma\n",
    "from langchain_groq import ChatGroq\n",
    "from langchain.chains import RetrievalQA"
   ]
  },
  {
   "cell_type": "code",
   "execution_count": 8,
   "metadata": {},
   "outputs": [],
   "source": [
    "# Laoding the document\n",
    "loader = PyPDFLoader(\"Documents/Porsche Case File.pdf\")\n",
    "pages = loader.load()"
   ]
  },
  {
   "cell_type": "code",
   "execution_count": 9,
   "metadata": {},
   "outputs": [
    {
     "name": "stdout",
     "output_type": "stream",
     "text": [
      "page_content='Pooja Gagan Jain vs State Of Maharashtra on 25 June, 2024\n",
      "Author: Bharati Dangre\n",
      "Bench: Bharati Dangre\n",
      " 2024:BHC-AS:24726-DB\n",
      "                                                                                       WP-2372-2024.doc\n",
      "           Rajshree\n",
      "                                        IN THE HIGH COURT OF JUDICATURE AT BOMBAY\n",
      "                                                 CRIMINAL APPELLATE JURISDICTION\n",
      "                                            CRIMINAL WRIT PETITION NO.2372 OF 2024\n",
      "                          Pooja Gagan Jain                   ]    ..   Petitioner\n",
      "                                           vs.\n",
      "                          State of Maharashtra               ]    ..   Respondent\n",
      "                          Mr. Aabad Ponda, Senior Advocate a/w Prashant Patil, Swapnil\n",
      "                          Ambure, Pranav Patil, Avantika Sharma, Nida Khan, Swati\n",
      "                          Pandey, Vinayak Patil, Anant Charkhe, Vishal Nevshe and\n",
      "                          R.B.Ade for the Petitioner.\n",
      "                          Mr. Hiten Vanegavkar, PP a/w Mrs. M.M. Deshmukh APP for the\n",
      "                          State.\n",
      "                          Mr.Satish Govekar, ACP (Crime 2), Pune City, present.\n",
      "                                                    CORAM : BHARATI DANGRE &\n",
      "                                                            MANJUSHA DESHPANDE, J\n",
      "                                                    DATED : 25th JUNE, 2024.\n",
      "                          JUDGMENT :\n",
      "- (PER BHARATI DANGRE, J.) 1] In the early hours of 19.05.2024 a ghastly incident killed two\n",
      "young individuals in the city of Pune and the cause for the Digitally same happened to be Porsche\n",
      "car rashly driven by Master X, a signed by RAJSHREE RAJSHREE KISHOR child in conflict with\n",
      "law (hereinafter referred to as 'CCL').\n",
      "KISHOR      MORE\n",
      "MORE        Date:\n",
      "            2024.06.26\n",
      "Pooja Gagan Jain vs State Of Maharashtra on 25 June, 2024\n",
      "Indian Kanoon - http://indiankanoon.org/doc/15716692/ 1' metadata={'source': 'Documents/Porsche Case File.pdf', 'page': 0, 'page_label': '1'}\n"
     ]
    }
   ],
   "source": [
    "print(pages[0])"
   ]
  },
  {
   "cell_type": "code",
   "execution_count": 10,
   "metadata": {},
   "outputs": [],
   "source": [
    "# Split the document into chunks\n",
    "text_splitter = RecursiveCharacterTextSplitter(\n",
    "    chunk_size=1000,\n",
    "    chunk_overlap=200,\n",
    ")\n",
    "splits = text_splitter.split_documents(pages)"
   ]
  },
  {
   "cell_type": "code",
   "execution_count": 11,
   "metadata": {},
   "outputs": [
    {
     "name": "stdout",
     "output_type": "stream",
     "text": [
      "page_content='Pooja Gagan Jain vs State Of Maharashtra on 25 June, 2024\n",
      "Author: Bharati Dangre\n",
      "Bench: Bharati Dangre\n",
      " 2024:BHC-AS:24726-DB\n",
      "                                                                                       WP-2372-2024.doc\n",
      "           Rajshree\n",
      "                                        IN THE HIGH COURT OF JUDICATURE AT BOMBAY\n",
      "                                                 CRIMINAL APPELLATE JURISDICTION\n",
      "                                            CRIMINAL WRIT PETITION NO.2372 OF 2024\n",
      "                          Pooja Gagan Jain                   ]    ..   Petitioner\n",
      "                                           vs.\n",
      "                          State of Maharashtra               ]    ..   Respondent\n",
      "                          Mr. Aabad Ponda, Senior Advocate a/w Prashant Patil, Swapnil\n",
      "                          Ambure, Pranav Patil, Avantika Sharma, Nida Khan, Swati\n",
      "                          Pandey, Vinayak Patil, Anant Charkhe, Vishal Nevshe and\n",
      "                          R.B.Ade for the Petitioner.\n",
      "                          Mr. Hiten Vanegavkar, PP a/w Mrs. M.M. Deshmukh APP for the\n",
      "                          State.\n",
      "                          Mr.Satish Govekar, ACP (Crime 2), Pune City, present.\n",
      "                                                    CORAM : BHARATI DANGRE &\n",
      "                                                            MANJUSHA DESHPANDE, J\n",
      "                                                    DATED : 25th JUNE, 2024.\n",
      "                          JUDGMENT :\n",
      "- (PER BHARATI DANGRE, J.) 1] In the early hours of 19.05.2024 a ghastly incident killed two\n",
      "young individuals in the city of Pune and the cause for the Digitally same happened to be Porsche\n",
      "car rashly driven by Master X, a signed by RAJSHREE RAJSHREE KISHOR child in conflict with\n",
      "law (hereinafter referred to as 'CCL').\n",
      "KISHOR      MORE\n",
      "MORE        Date:\n",
      "            2024.06.26\n",
      "Pooja Gagan Jain vs State Of Maharashtra on 25 June, 2024\n",
      "Indian Kanoon - http://indiankanoon.org/doc/15716692/ 1' metadata={'source': 'Documents/Porsche Case File.pdf', 'page': 0, 'page_label': '1'}\n"
     ]
    }
   ],
   "source": [
    "print(splits[0])"
   ]
  },
  {
   "cell_type": "code",
   "execution_count": 15,
   "metadata": {},
   "outputs": [],
   "source": [
    "embeddings = HuggingFaceEmbeddings(\n",
    "    model_name=\"sentence-transformers/all-MiniLM-L6-v2\",\n",
    ")"
   ]
  },
  {
   "cell_type": "code",
   "execution_count": 16,
   "metadata": {},
   "outputs": [],
   "source": [
    "persist_directory = \"chroma_db_info_retrieval\""
   ]
  },
  {
   "cell_type": "code",
   "execution_count": 21,
   "metadata": {},
   "outputs": [],
   "source": [
    "vectordb = Chroma.from_documents(\n",
    "    documents=splits,\n",
    "    embedding=embeddings,\n",
    "    persist_directory=persist_directory\n",
    ")"
   ]
  },
  {
   "cell_type": "code",
   "execution_count": 22,
   "metadata": {},
   "outputs": [
    {
     "name": "stdout",
     "output_type": "stream",
     "text": [
      "tags=['Chroma', 'HuggingFaceEmbeddings'] vectorstore=<langchain_community.vectorstores.chroma.Chroma object at 0x0000017086383F10> search_kwargs={}\n"
     ]
    }
   ],
   "source": [
    "retriever = vectordb.as_retriever()\n",
    "print(retriever)"
   ]
  },
  {
   "cell_type": "code",
   "execution_count": 23,
   "metadata": {},
   "outputs": [],
   "source": [
    "# LLM from Groq\n",
    "llm = ChatGroq(\n",
    "    model=\"llama-3.3-70b-versatile\",\n",
    "    temperature=0\n",
    ")"
   ]
  },
  {
   "cell_type": "code",
   "execution_count": 24,
   "metadata": {},
   "outputs": [],
   "source": [
    "# Create a Q&A chain\n",
    "chain = RetrievalQA.from_chain_type(\n",
    "    llm=llm,\n",
    "    chain_type=\"stuff\",\n",
    "    retriever=retriever,\n",
    "    return_source_documents=True\n",
    ")"
   ]
  },
  {
   "cell_type": "code",
   "execution_count": 26,
   "metadata": {},
   "outputs": [],
   "source": [
    "# Run the chain\n",
    "query = \"Give me a detailedsummary of the case\"\n",
    "response = chain.invoke({\"query\": query})"
   ]
  },
  {
   "cell_type": "code",
   "execution_count": 28,
   "metadata": {},
   "outputs": [
    {
     "name": "stdout",
     "output_type": "stream",
     "text": [
      "The case appears to be a judicial proceeding involving a Child in Conflict with Law (CCL) who was allegedly involved in a fatal accident. Here is a detailed summary of the case:\n",
      "\n",
      "**Background:**\n",
      "The CCL, whose age is not specified, had completed his 12th standard examination on May 17, 2024. On the same night, he left his house to attend a late-night party with his friends at a pub. His parents allowed him to go to the pub and consume liquor, and also permitted him to use a Porsche car, which was allegedly not registered as per the rules of the Road Traffic Office.\n",
      "\n",
      "**The Incident:**\n",
      "The CCL, who did not have a driving license, drove the unregistered car rashly and negligently, resulting in a fatal accident that caused the death of two people on the spot. The CCL was allegedly under the influence of liquor at the time of the incident.\n",
      "\n",
      "**Proceedings:**\n",
      "The CCL was released on bail on May 19, 2024, with certain conditions, including undergoing psychological treatment and counseling. However, it appears that these conditions were not followed.\n",
      "\n",
      "**Arguments:**\n",
      "The prosecution argued that the CCL's actions had created apprehensions among the general public about their safety on public roads. They also argued that the CCL had become a victim of mob lynching after the incident and that releasing him on bail would pose a moral, physical, and psychological danger to his life.\n",
      "\n",
      "The prosecution further argued that the CCL's parents had neglected their parenting duties and had no control over the CCL's conduct and behavior. They also pointed out that the CCL's friends were allegedly addicted to substance abuse.\n",
      "\n",
      "**Defense:**\n",
      "The CCL's advocate argued that the CCL was already released on bail and that his mental, physical, and social health had been impacted by the incident. They also submitted that the CCL's parents were capable of caring for him and protecting him, and that they had appointed a security team to ensure his safety.\n",
      "\n",
      "**Board's Opinion:**\n",
      "The board, after considering the arguments and the facts of the case, formed the opinion that the CCL had been neglected by his parents and that they had no control over his conduct and behavior. The board also noted that the CCL's friends seemed to be addicted to substance abuse and that the CCL required psychological treatment and counseling.\n",
      "\n",
      "The board further observed that the CCL's parents had allowed him to go to a pub and consume liquor, and had permitted him to use an unregistered car, which was a violation of the Motor Vehicle Act. The board expressed concern that if the CCL was released on bail and handed over to his parents, he would be at risk of abuse at the hands of society and would be exposed to bad company.\n",
      "\n",
      "**Conclusion:**\n",
      "The case appears to be a complex one, involving issues of juvenile justice, parenting, and public safety. The board's opinion suggests that the CCL requires rehabilitation and protection, and that his parents may not be equipped to provide the necessary care and supervision. The outcome of the case is not specified in the provided text, but it is likely that the board's opinion will influence the final decision regarding the CCL's custody and rehabilitation.\n"
     ]
    }
   ],
   "source": [
    "print(response[\"result\"])"
   ]
  },
  {
   "cell_type": "code",
   "execution_count": 29,
   "metadata": {},
   "outputs": [
    {
     "name": "stdout",
     "output_type": "stream",
     "text": [
      "page_content='A specific argument was advanced on behalf of the CCL that he was already released on bail\n",
      "considering all the necessary aspects under the Act of 2015 and his mental, physical and social\n",
      "WP-2372-2024.doc health was also impacted in the wake of the incident and his parents are capable\n",
      "to care for him and to protect him and they have appointed a security team, outside the house to\n",
      "ensure his safety.\n",
      "The learned APP focused upon the aspect of amendment of the order, under Section 104 of the Act\n",
      "and offered a clarification that the application is not intended to revoke the order passed earlier and\n",
      "the most highlighted aspects of the accident, were placed before the Board. It was also submitted\n",
      "that the wrong act of the CCL had created apprehensions in the mind of common people, who had\n",
      "become doubtful about their safety, on the public road.\n",
      "It was also argued that after the incident, the CCL became a victim of mob lynching and if released\n",
      "on bail, there is a moral, physical and psychological danger posed to his life. Apart from this, the\n",
      "board was also appraised that the father of the CCL was arraigned as a co-accused and it is a case of\n",
      "neglected parenting, and therefore, the custody of the CCL should be transferred to Observation\n",
      "Home for his safety and rehabilitation.\n",
      "9] It is in the backdrop of the facts placed before the Board, with an apprehension expressed by the\n",
      "prosecution, the members of the board formed the following opinion:-\n",
      "\"11 Further, after completion of examination of Std.12th on 17 th May 2024, the CCL\n",
      "left the house for making late night party with the friends in pub and parents allowed\n",
      "him to go to pub at late night to consume liquor and allowed to use a Porsche car to\n",
      "go for the party with his friends which allegedly, not even completed registration as\n",
      "per rules of Road Traffic Office. The said fact clearly discloses that the parent of the\n",
      "CCL themselves broke the rules of Motor Vehicle Act. Prima facie it also appears that\n",
      "the CCL has consumed liquor and without having driving licence drove the\n",
      "unregistered car rashly and negligently and caused death of two lives on the spot.\n",
      "WP-2372-2024.doc Considering above aspects, it prima facie reveals that the CCL\n",
      "has neglected from proper pareneting by his parents and they have no control over\n",
      "the conduct and the behaviour of the CCL. The friends circle of the CCL also seems to\n",
      "be addicted of the substance abuse. Further, the learned Advocate for the CCL has\n",
      "submitted that the CCL is in mental depression. Therefore, he needs psychological\n",
      "treatment and proper counseling which is one of the condition of the bail granted on\n",
      "19/05/2024. But the said condition could not be followed. The learned Advocate for\n",
      "the CCL submitted that the parents of the CCL have appointed a team of security\n",
      "guards through out in his bungalow. However, the mother of the CCL expressed her\n",
      "fear towards the CCL that, because of moblynching to the CCL on the date of\n",
      "incident, she could not follow the conditions mentioned in the bail order dated\n",
      "19/05/2024. Therefore, the argument of the State that, if the custody of the CCL is\n",
      "handed over to his parents, will amount to abuse at the hands of society and his bad\n",
      "company cannot be neglected\".\n",
      "Pooja Gagan Jain vs State Of Maharashtra on 25 June, 2024\n",
      "Indian Kanoon - http://indiankanoon.org/doc/15716692/ 6' metadata={'page': 5, 'page_label': '6', 'source': 'Documents/Porsche Case File.pdf'}\n"
     ]
    }
   ],
   "source": [
    "print(response[\"source_documents\"][0])"
   ]
  }
 ],
 "metadata": {
  "kernelspec": {
   "display_name": "NomosAI",
   "language": "python",
   "name": "cuda"
  },
  "language_info": {
   "codemirror_mode": {
    "name": "ipython",
    "version": 3
   },
   "file_extension": ".py",
   "mimetype": "text/x-python",
   "name": "python",
   "nbconvert_exporter": "python",
   "pygments_lexer": "ipython3",
   "version": "3.10.11"
  }
 },
 "nbformat": 4,
 "nbformat_minor": 2
}
