{
 "cells": [
  {
   "cell_type": "code",
   "execution_count": 4,
   "id": "b02c62df",
   "metadata": {},
   "outputs": [
    {
     "name": "stderr",
     "output_type": "stream",
     "text": [
      "c:\\PythonCustom\\envs\\langchain_venv\\lib\\site-packages\\tqdm\\auto.py:21: TqdmWarning: IProgress not found. Please update jupyter and ipywidgets. See https://ipywidgets.readthedocs.io/en/stable/user_install.html\n",
      "  from .autonotebook import tqdm as notebook_tqdm\n",
      "Generating train split: 100%|██████████| 24607/24607 [00:00<00:00, 38801.97 examples/s]\n"
     ]
    },
    {
     "data": {
      "text/plain": [
       "DatasetDict({\n",
       "    train: Dataset({\n",
       "        features: ['Instruction', 'Response'],\n",
       "        num_rows: 24607\n",
       "    })\n",
       "})"
      ]
     },
     "execution_count": 4,
     "metadata": {},
     "output_type": "execute_result"
    }
   ],
   "source": [
    "from datasets import load_dataset\n",
    "ds = load_dataset(\"viber1/indian-law-dataset\")\n",
    "ds"
   ]
  },
  {
   "cell_type": "code",
   "execution_count": 17,
   "id": "30be5b38",
   "metadata": {},
   "outputs": [],
   "source": [
    "import pandas as pd\n",
    "df=pd.DataFrame(ds)"
   ]
  },
  {
   "cell_type": "code",
   "execution_count": 27,
   "id": "72e9c72b",
   "metadata": {},
   "outputs": [
    {
     "data": {
      "text/plain": [
       "'What is the difference between a petition and a plaint in Indian law?'"
      ]
     },
     "execution_count": 27,
     "metadata": {},
     "output_type": "execute_result"
    }
   ],
   "source": [
    "df[\"train\"].iloc[0][\"Instruction\"]"
   ]
  },
  {
   "cell_type": "code",
   "execution_count": 28,
   "id": "85f7724b",
   "metadata": {},
   "outputs": [
    {
     "name": "stdout",
     "output_type": "stream",
     "text": [
      "                                                   train\n",
      "0      {'Instruction': 'What is the difference betwee...\n",
      "1      {'Instruction': 'When should a writ petition b...\n",
      "2      {'Instruction': 'What is the procedure for fil...\n",
      "3      {'Instruction': 'What are the common reliefs s...\n",
      "4      {'Instruction': 'Can a plaint be amended after...\n",
      "...                                                  ...\n",
      "24602  {'Instruction': 'What is the fine for parking ...\n",
      "24603  {'Instruction': 'What should you do when an am...\n",
      "24604  {'Instruction': 'What is the fine for not obey...\n",
      "24605  {'Instruction': 'What does a diamond-shaped tr...\n",
      "24606  {'Instruction': 'When should you dim your vehi...\n",
      "\n",
      "[24607 rows x 1 columns]\n"
     ]
    }
   ],
   "source": [
    "print(df)"
   ]
  },
  {
   "cell_type": "code",
   "execution_count": 30,
   "id": "cc534d33",
   "metadata": {},
   "outputs": [],
   "source": [
    "df.to_csv('csv_file.csv')"
   ]
  }
 ],
 "metadata": {
  "kernelspec": {
   "display_name": "langchain_venv",
   "language": "python",
   "name": "python3"
  },
  "language_info": {
   "codemirror_mode": {
    "name": "ipython",
    "version": 3
   },
   "file_extension": ".py",
   "mimetype": "text/x-python",
   "name": "python",
   "nbconvert_exporter": "python",
   "pygments_lexer": "ipython3",
   "version": "3.10.16"
  }
 },
 "nbformat": 4,
 "nbformat_minor": 5
}
