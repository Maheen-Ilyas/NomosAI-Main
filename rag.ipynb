{
 "cells": [
  {
   "cell_type": "code",
   "execution_count": 1,
   "metadata": {
    "scrolled": true
   },
   "outputs": [
    {
     "name": "stdout",
     "output_type": "stream",
     "text": [
      "Requirement already satisfied: langchain_community in c:\\nomosai\\cuda\\lib\\site-packages (0.3.15)\n",
      "Requirement already satisfied: tiktoken in c:\\nomosai\\cuda\\lib\\site-packages (0.8.0)\n",
      "Requirement already satisfied: langchainhub in c:\\nomosai\\cuda\\lib\\site-packages (0.1.21)\n",
      "Requirement already satisfied: langchain_huggingface in c:\\nomosai\\cuda\\lib\\site-packages (0.1.2)\n",
      "Requirement already satisfied: chromadb in c:\\nomosai\\cuda\\lib\\site-packages (0.6.3)\n",
      "Requirement already satisfied: langchain in c:\\nomosai\\cuda\\lib\\site-packages (0.3.15)\n",
      "Requirement already satisfied: pypdf in c:\\nomosai\\cuda\\lib\\site-packages (5.1.0)\n",
      "Requirement already satisfied: langchain-groq in c:\\nomosai\\cuda\\lib\\site-packages (0.2.3)\n",
      "Requirement already satisfied: sentence-transformers in c:\\nomosai\\cuda\\lib\\site-packages (3.3.1)\n",
      "Requirement already satisfied: PyYAML>=5.3 in c:\\nomosai\\cuda\\lib\\site-packages (from langchain_community) (6.0.2)\n",
      "Requirement already satisfied: SQLAlchemy<3,>=1.4 in c:\\nomosai\\cuda\\lib\\site-packages (from langchain_community) (2.0.37)\n",
      "Requirement already satisfied: aiohttp<4.0.0,>=3.8.3 in c:\\nomosai\\cuda\\lib\\site-packages (from langchain_community) (3.11.11)\n",
      "Requirement already satisfied: dataclasses-json<0.7,>=0.5.7 in c:\\nomosai\\cuda\\lib\\site-packages (from langchain_community) (0.6.7)\n",
      "Requirement already satisfied: httpx-sse<0.5.0,>=0.4.0 in c:\\nomosai\\cuda\\lib\\site-packages (from langchain_community) (0.4.0)\n",
      "Requirement already satisfied: langchain-core<0.4.0,>=0.3.31 in c:\\nomosai\\cuda\\lib\\site-packages (from langchain_community) (0.3.31)\n",
      "Requirement already satisfied: langsmith<0.4,>=0.1.125 in c:\\nomosai\\cuda\\lib\\site-packages (from langchain_community) (0.3.0)\n",
      "Requirement already satisfied: numpy<2,>=1.22.4 in c:\\nomosai\\cuda\\lib\\site-packages (from langchain_community) (1.26.4)\n",
      "Requirement already satisfied: pydantic-settings<3.0.0,>=2.4.0 in c:\\nomosai\\cuda\\lib\\site-packages (from langchain_community) (2.7.1)\n",
      "Requirement already satisfied: requests<3,>=2 in c:\\nomosai\\cuda\\lib\\site-packages (from langchain_community) (2.32.3)\n",
      "Requirement already satisfied: tenacity!=8.4.0,<10,>=8.1.0 in c:\\nomosai\\cuda\\lib\\site-packages (from langchain_community) (9.0.0)\n",
      "Requirement already satisfied: regex>=2022.1.18 in c:\\nomosai\\cuda\\lib\\site-packages (from tiktoken) (2024.11.6)\n",
      "Requirement already satisfied: packaging<25,>=23.2 in c:\\nomosai\\cuda\\lib\\site-packages (from langchainhub) (24.2)\n",
      "Requirement already satisfied: types-requests<3.0.0.0,>=2.31.0.2 in c:\\nomosai\\cuda\\lib\\site-packages (from langchainhub) (2.32.0.20241016)\n",
      "Requirement already satisfied: huggingface-hub>=0.23.0 in c:\\nomosai\\cuda\\lib\\site-packages (from langchain_huggingface) (0.27.1)\n",
      "Requirement already satisfied: tokenizers>=0.19.1 in c:\\nomosai\\cuda\\lib\\site-packages (from langchain_huggingface) (0.21.0)\n",
      "Requirement already satisfied: transformers>=4.39.0 in c:\\nomosai\\cuda\\lib\\site-packages (from langchain_huggingface) (4.48.1)\n",
      "Requirement already satisfied: build>=1.0.3 in c:\\nomosai\\cuda\\lib\\site-packages (from chromadb) (1.2.2.post1)\n",
      "Requirement already satisfied: pydantic>=1.9 in c:\\nomosai\\cuda\\lib\\site-packages (from chromadb) (2.10.5)\n",
      "Requirement already satisfied: chroma-hnswlib==0.7.6 in c:\\nomosai\\cuda\\lib\\site-packages (from chromadb) (0.7.6)\n",
      "Requirement already satisfied: fastapi>=0.95.2 in c:\\nomosai\\cuda\\lib\\site-packages (from chromadb) (0.115.6)\n",
      "Requirement already satisfied: uvicorn>=0.18.3 in c:\\nomosai\\cuda\\lib\\site-packages (from uvicorn[standard]>=0.18.3->chromadb) (0.34.0)\n",
      "Requirement already satisfied: posthog>=2.4.0 in c:\\nomosai\\cuda\\lib\\site-packages (from chromadb) (3.9.0)\n",
      "Requirement already satisfied: typing_extensions>=4.5.0 in c:\\nomosai\\cuda\\lib\\site-packages (from chromadb) (4.12.2)\n",
      "Requirement already satisfied: onnxruntime>=1.14.1 in c:\\nomosai\\cuda\\lib\\site-packages (from chromadb) (1.20.1)\n",
      "Requirement already satisfied: opentelemetry-api>=1.2.0 in c:\\nomosai\\cuda\\lib\\site-packages (from chromadb) (1.29.0)\n",
      "Requirement already satisfied: opentelemetry-exporter-otlp-proto-grpc>=1.2.0 in c:\\nomosai\\cuda\\lib\\site-packages (from chromadb) (1.29.0)\n",
      "Requirement already satisfied: opentelemetry-instrumentation-fastapi>=0.41b0 in c:\\nomosai\\cuda\\lib\\site-packages (from chromadb) (0.50b0)\n",
      "Requirement already satisfied: opentelemetry-sdk>=1.2.0 in c:\\nomosai\\cuda\\lib\\site-packages (from chromadb) (1.29.0)\n",
      "Requirement already satisfied: pypika>=0.48.9 in c:\\nomosai\\cuda\\lib\\site-packages (from chromadb) (0.48.9)\n",
      "Requirement already satisfied: tqdm>=4.65.0 in c:\\nomosai\\cuda\\lib\\site-packages (from chromadb) (4.67.1)\n",
      "Requirement already satisfied: overrides>=7.3.1 in c:\\nomosai\\cuda\\lib\\site-packages (from chromadb) (7.7.0)\n",
      "Requirement already satisfied: importlib-resources in c:\\nomosai\\cuda\\lib\\site-packages (from chromadb) (6.5.2)\n",
      "Requirement already satisfied: grpcio>=1.58.0 in c:\\nomosai\\cuda\\lib\\site-packages (from chromadb) (1.69.0)\n",
      "Requirement already satisfied: bcrypt>=4.0.1 in c:\\nomosai\\cuda\\lib\\site-packages (from chromadb) (4.2.1)\n",
      "Requirement already satisfied: typer>=0.9.0 in c:\\nomosai\\cuda\\lib\\site-packages (from chromadb) (0.15.1)\n",
      "Requirement already satisfied: kubernetes>=28.1.0 in c:\\nomosai\\cuda\\lib\\site-packages (from chromadb) (31.0.0)\n",
      "Requirement already satisfied: mmh3>=4.0.1 in c:\\nomosai\\cuda\\lib\\site-packages (from chromadb) (5.0.1)\n",
      "Requirement already satisfied: orjson>=3.9.12 in c:\\nomosai\\cuda\\lib\\site-packages (from chromadb) (3.10.15)\n",
      "Requirement already satisfied: httpx>=0.27.0 in c:\\nomosai\\cuda\\lib\\site-packages (from chromadb) (0.28.1)\n",
      "Requirement already satisfied: rich>=10.11.0 in c:\\nomosai\\cuda\\lib\\site-packages (from chromadb) (13.9.4)\n",
      "Requirement already satisfied: async-timeout<5.0.0,>=4.0.0 in c:\\nomosai\\cuda\\lib\\site-packages (from langchain) (4.0.3)\n",
      "Requirement already satisfied: langchain-text-splitters<0.4.0,>=0.3.3 in c:\\nomosai\\cuda\\lib\\site-packages (from langchain) (0.3.5)\n",
      "Requirement already satisfied: groq<1,>=0.4.1 in c:\\nomosai\\cuda\\lib\\site-packages (from langchain-groq) (0.15.0)\n",
      "Requirement already satisfied: torch>=1.11.0 in c:\\nomosai\\cuda\\lib\\site-packages (from sentence-transformers) (2.5.1+cu124)\n",
      "Requirement already satisfied: scikit-learn in c:\\nomosai\\cuda\\lib\\site-packages (from sentence-transformers) (1.6.1)\n",
      "Requirement already satisfied: scipy in c:\\nomosai\\cuda\\lib\\site-packages (from sentence-transformers) (1.15.1)\n",
      "Requirement already satisfied: Pillow in c:\\nomosai\\cuda\\lib\\site-packages (from sentence-transformers) (11.0.0)\n",
      "Requirement already satisfied: aiohappyeyeballs>=2.3.0 in c:\\nomosai\\cuda\\lib\\site-packages (from aiohttp<4.0.0,>=3.8.3->langchain_community) (2.4.4)\n",
      "Requirement already satisfied: aiosignal>=1.1.2 in c:\\nomosai\\cuda\\lib\\site-packages (from aiohttp<4.0.0,>=3.8.3->langchain_community) (1.3.2)\n",
      "Requirement already satisfied: attrs>=17.3.0 in c:\\nomosai\\cuda\\lib\\site-packages (from aiohttp<4.0.0,>=3.8.3->langchain_community) (24.3.0)\n",
      "Requirement already satisfied: frozenlist>=1.1.1 in c:\\nomosai\\cuda\\lib\\site-packages (from aiohttp<4.0.0,>=3.8.3->langchain_community) (1.5.0)\n",
      "Requirement already satisfied: multidict<7.0,>=4.5 in c:\\nomosai\\cuda\\lib\\site-packages (from aiohttp<4.0.0,>=3.8.3->langchain_community) (6.1.0)\n",
      "Requirement already satisfied: propcache>=0.2.0 in c:\\nomosai\\cuda\\lib\\site-packages (from aiohttp<4.0.0,>=3.8.3->langchain_community) (0.2.1)\n",
      "Requirement already satisfied: yarl<2.0,>=1.17.0 in c:\\nomosai\\cuda\\lib\\site-packages (from aiohttp<4.0.0,>=3.8.3->langchain_community) (1.18.3)\n",
      "Requirement already satisfied: pyproject_hooks in c:\\nomosai\\cuda\\lib\\site-packages (from build>=1.0.3->chromadb) (1.2.0)\n",
      "Requirement already satisfied: colorama in c:\\nomosai\\cuda\\lib\\site-packages (from build>=1.0.3->chromadb) (0.4.6)\n",
      "Requirement already satisfied: tomli>=1.1.0 in c:\\nomosai\\cuda\\lib\\site-packages (from build>=1.0.3->chromadb) (2.2.1)\n",
      "Requirement already satisfied: marshmallow<4.0.0,>=3.18.0 in c:\\nomosai\\cuda\\lib\\site-packages (from dataclasses-json<0.7,>=0.5.7->langchain_community) (3.25.1)\n",
      "Requirement already satisfied: typing-inspect<1,>=0.4.0 in c:\\nomosai\\cuda\\lib\\site-packages (from dataclasses-json<0.7,>=0.5.7->langchain_community) (0.9.0)\n",
      "Requirement already satisfied: starlette<0.42.0,>=0.40.0 in c:\\nomosai\\cuda\\lib\\site-packages (from fastapi>=0.95.2->chromadb) (0.41.3)\n",
      "Requirement already satisfied: anyio<5,>=3.5.0 in c:\\nomosai\\cuda\\lib\\site-packages (from groq<1,>=0.4.1->langchain-groq) (4.7.0)\n",
      "Requirement already satisfied: distro<2,>=1.7.0 in c:\\nomosai\\cuda\\lib\\site-packages (from groq<1,>=0.4.1->langchain-groq) (1.9.0)\n",
      "Requirement already satisfied: sniffio in c:\\nomosai\\cuda\\lib\\site-packages (from groq<1,>=0.4.1->langchain-groq) (1.3.1)\n",
      "Requirement already satisfied: certifi in c:\\nomosai\\cuda\\lib\\site-packages (from httpx>=0.27.0->chromadb) (2024.12.14)\n",
      "Requirement already satisfied: httpcore==1.* in c:\\nomosai\\cuda\\lib\\site-packages (from httpx>=0.27.0->chromadb) (1.0.7)\n",
      "Requirement already satisfied: idna in c:\\nomosai\\cuda\\lib\\site-packages (from httpx>=0.27.0->chromadb) (3.10)\n",
      "Requirement already satisfied: h11<0.15,>=0.13 in c:\\nomosai\\cuda\\lib\\site-packages (from httpcore==1.*->httpx>=0.27.0->chromadb) (0.14.0)\n",
      "Requirement already satisfied: filelock in c:\\nomosai\\cuda\\lib\\site-packages (from huggingface-hub>=0.23.0->langchain_huggingface) (3.13.1)\n",
      "Requirement already satisfied: fsspec>=2023.5.0 in c:\\nomosai\\cuda\\lib\\site-packages (from huggingface-hub>=0.23.0->langchain_huggingface) (2024.2.0)\n",
      "Requirement already satisfied: six>=1.9.0 in c:\\nomosai\\cuda\\lib\\site-packages (from kubernetes>=28.1.0->chromadb) (1.17.0)\n",
      "Requirement already satisfied: python-dateutil>=2.5.3 in c:\\nomosai\\cuda\\lib\\site-packages (from kubernetes>=28.1.0->chromadb) (2.9.0.post0)\n",
      "Requirement already satisfied: google-auth>=1.0.1 in c:\\nomosai\\cuda\\lib\\site-packages (from kubernetes>=28.1.0->chromadb) (2.37.0)\n",
      "Requirement already satisfied: websocket-client!=0.40.0,!=0.41.*,!=0.42.*,>=0.32.0 in c:\\nomosai\\cuda\\lib\\site-packages (from kubernetes>=28.1.0->chromadb) (1.8.0)\n",
      "Requirement already satisfied: requests-oauthlib in c:\\nomosai\\cuda\\lib\\site-packages (from kubernetes>=28.1.0->chromadb) (2.0.0)\n",
      "Requirement already satisfied: oauthlib>=3.2.2 in c:\\nomosai\\cuda\\lib\\site-packages (from kubernetes>=28.1.0->chromadb) (3.2.2)\n",
      "Requirement already satisfied: urllib3>=1.24.2 in c:\\nomosai\\cuda\\lib\\site-packages (from kubernetes>=28.1.0->chromadb) (2.3.0)\n",
      "Requirement already satisfied: durationpy>=0.7 in c:\\nomosai\\cuda\\lib\\site-packages (from kubernetes>=28.1.0->chromadb) (0.9)\n",
      "Requirement already satisfied: jsonpatch<2.0,>=1.33 in c:\\nomosai\\cuda\\lib\\site-packages (from langchain-core<0.4.0,>=0.3.31->langchain_community) (1.33)\n",
      "Requirement already satisfied: requests-toolbelt<2.0.0,>=1.0.0 in c:\\nomosai\\cuda\\lib\\site-packages (from langsmith<0.4,>=0.1.125->langchain_community) (1.0.0)\n",
      "Requirement already satisfied: zstandard<0.24.0,>=0.23.0 in c:\\nomosai\\cuda\\lib\\site-packages (from langsmith<0.4,>=0.1.125->langchain_community) (0.23.0)\n",
      "Requirement already satisfied: coloredlogs in c:\\nomosai\\cuda\\lib\\site-packages (from onnxruntime>=1.14.1->chromadb) (15.0.1)\n",
      "Requirement already satisfied: flatbuffers in c:\\nomosai\\cuda\\lib\\site-packages (from onnxruntime>=1.14.1->chromadb) (25.1.21)\n",
      "Requirement already satisfied: protobuf in c:\\nomosai\\cuda\\lib\\site-packages (from onnxruntime>=1.14.1->chromadb) (5.29.3)\n",
      "Requirement already satisfied: sympy in c:\\nomosai\\cuda\\lib\\site-packages (from onnxruntime>=1.14.1->chromadb) (1.13.1)\n",
      "Requirement already satisfied: deprecated>=1.2.6 in c:\\nomosai\\cuda\\lib\\site-packages (from opentelemetry-api>=1.2.0->chromadb) (1.2.15)\n",
      "Requirement already satisfied: importlib-metadata<=8.5.0,>=6.0 in c:\\nomosai\\cuda\\lib\\site-packages (from opentelemetry-api>=1.2.0->chromadb) (8.5.0)\n",
      "Requirement already satisfied: googleapis-common-protos~=1.52 in c:\\nomosai\\cuda\\lib\\site-packages (from opentelemetry-exporter-otlp-proto-grpc>=1.2.0->chromadb) (1.66.0)\n",
      "Requirement already satisfied: opentelemetry-exporter-otlp-proto-common==1.29.0 in c:\\nomosai\\cuda\\lib\\site-packages (from opentelemetry-exporter-otlp-proto-grpc>=1.2.0->chromadb) (1.29.0)\n",
      "Requirement already satisfied: opentelemetry-proto==1.29.0 in c:\\nomosai\\cuda\\lib\\site-packages (from opentelemetry-exporter-otlp-proto-grpc>=1.2.0->chromadb) (1.29.0)\n",
      "Requirement already satisfied: opentelemetry-instrumentation-asgi==0.50b0 in c:\\nomosai\\cuda\\lib\\site-packages (from opentelemetry-instrumentation-fastapi>=0.41b0->chromadb) (0.50b0)\n",
      "Requirement already satisfied: opentelemetry-instrumentation==0.50b0 in c:\\nomosai\\cuda\\lib\\site-packages (from opentelemetry-instrumentation-fastapi>=0.41b0->chromadb) (0.50b0)\n",
      "Requirement already satisfied: opentelemetry-semantic-conventions==0.50b0 in c:\\nomosai\\cuda\\lib\\site-packages (from opentelemetry-instrumentation-fastapi>=0.41b0->chromadb) (0.50b0)\n",
      "Requirement already satisfied: opentelemetry-util-http==0.50b0 in c:\\nomosai\\cuda\\lib\\site-packages (from opentelemetry-instrumentation-fastapi>=0.41b0->chromadb) (0.50b0)\n",
      "Requirement already satisfied: wrapt<2.0.0,>=1.0.0 in c:\\nomosai\\cuda\\lib\\site-packages (from opentelemetry-instrumentation==0.50b0->opentelemetry-instrumentation-fastapi>=0.41b0->chromadb) (1.17.2)\n",
      "Requirement already satisfied: asgiref~=3.0 in c:\\nomosai\\cuda\\lib\\site-packages (from opentelemetry-instrumentation-asgi==0.50b0->opentelemetry-instrumentation-fastapi>=0.41b0->chromadb) (3.8.1)\n",
      "Requirement already satisfied: monotonic>=1.5 in c:\\nomosai\\cuda\\lib\\site-packages (from posthog>=2.4.0->chromadb) (1.6)\n",
      "Requirement already satisfied: backoff>=1.10.0 in c:\\nomosai\\cuda\\lib\\site-packages (from posthog>=2.4.0->chromadb) (2.2.1)\n",
      "Requirement already satisfied: annotated-types>=0.6.0 in c:\\nomosai\\cuda\\lib\\site-packages (from pydantic>=1.9->chromadb) (0.7.0)\n",
      "Requirement already satisfied: pydantic-core==2.27.2 in c:\\nomosai\\cuda\\lib\\site-packages (from pydantic>=1.9->chromadb) (2.27.2)\n",
      "Requirement already satisfied: python-dotenv>=0.21.0 in c:\\nomosai\\cuda\\lib\\site-packages (from pydantic-settings<3.0.0,>=2.4.0->langchain_community) (1.0.1)\n",
      "Requirement already satisfied: charset-normalizer<4,>=2 in c:\\nomosai\\cuda\\lib\\site-packages (from requests<3,>=2->langchain_community) (3.4.0)\n",
      "Requirement already satisfied: markdown-it-py>=2.2.0 in c:\\nomosai\\cuda\\lib\\site-packages (from rich>=10.11.0->chromadb) (3.0.0)\n",
      "Requirement already satisfied: pygments<3.0.0,>=2.13.0 in c:\\nomosai\\cuda\\lib\\site-packages (from rich>=10.11.0->chromadb) (2.18.0)\n",
      "Requirement already satisfied: greenlet!=0.4.17 in c:\\nomosai\\cuda\\lib\\site-packages (from SQLAlchemy<3,>=1.4->langchain_community) (3.1.1)\n",
      "Requirement already satisfied: networkx in c:\\nomosai\\cuda\\lib\\site-packages (from torch>=1.11.0->sentence-transformers) (3.2.1)\n",
      "Requirement already satisfied: jinja2 in c:\\nomosai\\cuda\\lib\\site-packages (from torch>=1.11.0->sentence-transformers) (3.1.5)\n",
      "Requirement already satisfied: mpmath<1.4,>=1.1.0 in c:\\nomosai\\cuda\\lib\\site-packages (from sympy->onnxruntime>=1.14.1->chromadb) (1.3.0)\n",
      "Requirement already satisfied: safetensors>=0.4.1 in c:\\nomosai\\cuda\\lib\\site-packages (from transformers>=4.39.0->langchain_huggingface) (0.5.2)\n",
      "Requirement already satisfied: click>=8.0.0 in c:\\nomosai\\cuda\\lib\\site-packages (from typer>=0.9.0->chromadb) (8.1.8)\n",
      "Requirement already satisfied: shellingham>=1.3.0 in c:\\nomosai\\cuda\\lib\\site-packages (from typer>=0.9.0->chromadb) (1.5.4)\n",
      "Requirement already satisfied: httptools>=0.6.3 in c:\\nomosai\\cuda\\lib\\site-packages (from uvicorn[standard]>=0.18.3->chromadb) (0.6.4)\n",
      "Requirement already satisfied: watchfiles>=0.13 in c:\\nomosai\\cuda\\lib\\site-packages (from uvicorn[standard]>=0.18.3->chromadb) (1.0.4)\n",
      "Requirement already satisfied: websockets>=10.4 in c:\\nomosai\\cuda\\lib\\site-packages (from uvicorn[standard]>=0.18.3->chromadb) (14.2)\n",
      "Requirement already satisfied: joblib>=1.2.0 in c:\\nomosai\\cuda\\lib\\site-packages (from scikit-learn->sentence-transformers) (1.4.2)\n",
      "Requirement already satisfied: threadpoolctl>=3.1.0 in c:\\nomosai\\cuda\\lib\\site-packages (from scikit-learn->sentence-transformers) (3.5.0)\n",
      "Requirement already satisfied: exceptiongroup>=1.0.2 in c:\\nomosai\\cuda\\lib\\site-packages (from anyio<5,>=3.5.0->groq<1,>=0.4.1->langchain-groq) (1.2.2)\n",
      "Requirement already satisfied: cachetools<6.0,>=2.0.0 in c:\\nomosai\\cuda\\lib\\site-packages (from google-auth>=1.0.1->kubernetes>=28.1.0->chromadb) (5.5.1)\n",
      "Requirement already satisfied: pyasn1-modules>=0.2.1 in c:\\nomosai\\cuda\\lib\\site-packages (from google-auth>=1.0.1->kubernetes>=28.1.0->chromadb) (0.4.1)\n",
      "Requirement already satisfied: rsa<5,>=3.1.4 in c:\\nomosai\\cuda\\lib\\site-packages (from google-auth>=1.0.1->kubernetes>=28.1.0->chromadb) (4.9)\n",
      "Requirement already satisfied: zipp>=3.20 in c:\\nomosai\\cuda\\lib\\site-packages (from importlib-metadata<=8.5.0,>=6.0->opentelemetry-api>=1.2.0->chromadb) (3.21.0)\n",
      "Requirement already satisfied: jsonpointer>=1.9 in c:\\nomosai\\cuda\\lib\\site-packages (from jsonpatch<2.0,>=1.33->langchain-core<0.4.0,>=0.3.31->langchain_community) (3.0.0)\n",
      "Requirement already satisfied: mdurl~=0.1 in c:\\nomosai\\cuda\\lib\\site-packages (from markdown-it-py>=2.2.0->rich>=10.11.0->chromadb) (0.1.2)\n",
      "Requirement already satisfied: mypy-extensions>=0.3.0 in c:\\nomosai\\cuda\\lib\\site-packages (from typing-inspect<1,>=0.4.0->dataclasses-json<0.7,>=0.5.7->langchain_community) (1.0.0)\n",
      "Requirement already satisfied: humanfriendly>=9.1 in c:\\nomosai\\cuda\\lib\\site-packages (from coloredlogs->onnxruntime>=1.14.1->chromadb) (10.0)\n",
      "Requirement already satisfied: MarkupSafe>=2.0 in c:\\nomosai\\cuda\\lib\\site-packages (from jinja2->torch>=1.11.0->sentence-transformers) (3.0.2)\n",
      "Requirement already satisfied: pyreadline3 in c:\\nomosai\\cuda\\lib\\site-packages (from humanfriendly>=9.1->coloredlogs->onnxruntime>=1.14.1->chromadb) (3.5.4)\n",
      "Requirement already satisfied: pyasn1<0.7.0,>=0.4.6 in c:\\nomosai\\cuda\\lib\\site-packages (from pyasn1-modules>=0.2.1->google-auth>=1.0.1->kubernetes>=28.1.0->chromadb) (0.6.1)\n",
      "Note: you may need to restart the kernel to use updated packages.\n"
     ]
    }
   ],
   "source": [
    "%pip install langchain_community tiktoken langchainhub langchain_huggingface chromadb langchain pypdf langchain-groq sentence-transformers;"
   ]
  },
  {
   "cell_type": "code",
   "execution_count": 2,
   "metadata": {},
   "outputs": [
    {
     "data": {
      "text/plain": [
       "True"
      ]
     },
     "execution_count": 2,
     "metadata": {},
     "output_type": "execute_result"
    }
   ],
   "source": [
    "# Environment Setup\n",
    "from dotenv import load_dotenv\n",
    "import os\n",
    "\n",
    "# Load environment variables from .env file\n",
    "load_dotenv()"
   ]
  },
  {
   "cell_type": "code",
   "execution_count": 3,
   "metadata": {},
   "outputs": [],
   "source": [
    "# RAG Quickstart\n",
    "import numpy as np\n",
    "import tiktoken\n",
    "from langchain import hub\n",
    "from langchain.text_splitter import RecursiveCharacterTextSplitter\n",
    "from langchain_community.document_loaders import PyPDFLoader\n",
    "from langchain_community.vectorstores import Chroma\n",
    "from langchain_core.output_parsers import StrOutputParser\n",
    "from langchain_core.runnables import RunnablePassthrough\n",
    "from langchain_groq import ChatGroq\n",
    "from langchain_huggingface.embeddings import HuggingFaceEmbeddings"
   ]
  },
  {
   "cell_type": "code",
   "execution_count": 5,
   "metadata": {},
   "outputs": [],
   "source": [
    "# Initialize the embedding model\n",
    "embedding = HuggingFaceEmbeddings(\n",
    "    model_name=\"sentence-transformers/all-MiniLM-L6-v2\",\n",
    "    model_kwargs={\n",
    "        \"device\": \"cpu\",\n",
    "    },\n",
    ")"
   ]
  },
  {
   "cell_type": "code",
   "execution_count": 6,
   "metadata": {},
   "outputs": [],
   "source": [
    "# Load the document\n",
    "loader = PyPDFLoader(\"Documents/Porsche Case File.pdf\")\n",
    "pages = loader.load()\n"
   ]
  },
  {
   "cell_type": "code",
   "execution_count": 7,
   "metadata": {},
   "outputs": [
    {
     "name": "stdout",
     "output_type": "stream",
     "text": [
      "page_content='Pooja Gagan Jain vs State Of Maharashtra on 25 June, 2024\n",
      "Author: Bharati Dangre\n",
      "Bench: Bharati Dangre\n",
      " 2024:BHC-AS:24726-DB\n",
      "                                                                                       WP-2372-2024.doc\n",
      "           Rajshree\n",
      "                                        IN THE HIGH COURT OF JUDICATURE AT BOMBAY\n",
      "                                                 CRIMINAL APPELLATE JURISDICTION\n",
      "                                            CRIMINAL WRIT PETITION NO.2372 OF 2024\n",
      "                          Pooja Gagan Jain                   ]    ..   Petitioner\n",
      "                                           vs.\n",
      "                          State of Maharashtra               ]    ..   Respondent\n",
      "                          Mr. Aabad Ponda, Senior Advocate a/w Prashant Patil, Swapnil\n",
      "                          Ambure, Pranav Patil, Avantika Sharma, Nida Khan, Swati\n",
      "                          Pandey, Vinayak Patil, Anant Charkhe, Vishal Nevshe and\n",
      "                          R.B.Ade for the Petitioner.\n",
      "                          Mr. Hiten Vanegavkar, PP a/w Mrs. M.M. Deshmukh APP for the\n",
      "                          State.\n",
      "                          Mr.Satish Govekar, ACP (Crime 2), Pune City, present.\n",
      "                                                    CORAM : BHARATI DANGRE &\n",
      "                                                            MANJUSHA DESHPANDE, J\n",
      "                                                    DATED : 25th JUNE, 2024.\n",
      "                          JUDGMENT :\n",
      "- (PER BHARATI DANGRE, J.) 1] In the early hours of 19.05.2024 a ghastly incident killed two\n",
      "young individuals in the city of Pune and the cause for the Digitally same happened to be Porsche\n",
      "car rashly driven by Master X, a signed by RAJSHREE RAJSHREE KISHOR child in conflict with\n",
      "law (hereinafter referred to as 'CCL').\n",
      "KISHOR      MORE\n",
      "MORE        Date:\n",
      "            2024.06.26\n",
      "Pooja Gagan Jain vs State Of Maharashtra on 25 June, 2024\n",
      "Indian Kanoon - http://indiankanoon.org/doc/15716692/ 1' metadata={'source': 'Documents/Porsche Case File.pdf', 'page': 0, 'page_label': '1'}\n"
     ]
    }
   ],
   "source": [
    "print(pages[0])"
   ]
  },
  {
   "cell_type": "code",
   "execution_count": 8,
   "metadata": {},
   "outputs": [],
   "source": [
    "# Split the document into chunks\n",
    "text_splitter = RecursiveCharacterTextSplitter(\n",
    "    chunk_size=1000,\n",
    "    chunk_overlap=200,\n",
    ")\n",
    "splits = text_splitter.split_documents(pages)"
   ]
  },
  {
   "cell_type": "code",
   "execution_count": 9,
   "metadata": {},
   "outputs": [
    {
     "name": "stdout",
     "output_type": "stream",
     "text": [
      "page_content='Pooja Gagan Jain vs State Of Maharashtra on 25 June, 2024\n",
      "Author: Bharati Dangre\n",
      "Bench: Bharati Dangre\n",
      " 2024:BHC-AS:24726-DB\n",
      "                                                                                       WP-2372-2024.doc\n",
      "           Rajshree\n",
      "                                        IN THE HIGH COURT OF JUDICATURE AT BOMBAY\n",
      "                                                 CRIMINAL APPELLATE JURISDICTION\n",
      "                                            CRIMINAL WRIT PETITION NO.2372 OF 2024\n",
      "                          Pooja Gagan Jain                   ]    ..   Petitioner\n",
      "                                           vs.\n",
      "                          State of Maharashtra               ]    ..   Respondent\n",
      "                          Mr. Aabad Ponda, Senior Advocate a/w Prashant Patil, Swapnil\n",
      "                          Ambure, Pranav Patil, Avantika Sharma, Nida Khan, Swati\n",
      "                          Pandey, Vinayak Patil, Anant Charkhe, Vishal Nevshe and' metadata={'source': 'Documents/Porsche Case File.pdf', 'page': 0, 'page_label': '1'}\n"
     ]
    }
   ],
   "source": [
    "print(splits[0])"
   ]
  },
  {
   "cell_type": "code",
   "execution_count": 10,
   "metadata": {},
   "outputs": [],
   "source": [
    "# Embedding the chunks\n",
    "vectorstore = Chroma.from_documents(\n",
    "    documents=splits, \n",
    "    embedding=embedding,\n",
    "    persist_directory=\"./chroma_db\"\n",
    ")"
   ]
  },
  {
   "cell_type": "code",
   "execution_count": 11,
   "metadata": {},
   "outputs": [
    {
     "name": "stdout",
     "output_type": "stream",
     "text": [
      "tags=['Chroma', 'HuggingFaceEmbeddings'] vectorstore=<langchain_community.vectorstores.chroma.Chroma object at 0x0000018D5E36C280> search_kwargs={}\n"
     ]
    }
   ],
   "source": [
    "retriever = vectorstore.as_retriever()\n",
    "print(retriever)\n"
   ]
  },
  {
   "cell_type": "code",
   "execution_count": 12,
   "metadata": {},
   "outputs": [
    {
     "name": "stdout",
     "output_type": "stream",
     "text": [
      "input_variables=['context', 'question'] input_types={} partial_variables={} metadata={'lc_hub_owner': 'rlm', 'lc_hub_repo': 'rag-prompt', 'lc_hub_commit_hash': '50442af133e61576e74536c6556cefe1fac147cad032f4377b60c436e6cdcb6e'} messages=[HumanMessagePromptTemplate(prompt=PromptTemplate(input_variables=['context', 'question'], input_types={}, partial_variables={}, template=\"You are an assistant for question-answering tasks. Use the following pieces of retrieved context to answer the question. If you don't know the answer, just say that you don't know. Use three sentences maximum and keep the answer concise.\\nQuestion: {question} \\nContext: {context} \\nAnswer:\"), additional_kwargs={})]\n"
     ]
    }
   ],
   "source": [
    "# Prompt\n",
    "prompt = hub.pull(\"rlm/rag-prompt\")\n",
    "print(prompt)\n"
   ]
  },
  {
   "cell_type": "code",
   "execution_count": 28,
   "metadata": {},
   "outputs": [],
   "source": [
    "# LLM\n",
    "llm = ChatGroq(\n",
    "    api_key=os.getenv(\"GROQ_API_KEY\"),\n",
    "    model=\"llama-3.3-70b-versatile\",\n",
    "    temperature=0.7,\n",
    "    max_tokens= 12000,\n",
    ")"
   ]
  },
  {
   "cell_type": "code",
   "execution_count": 29,
   "metadata": {},
   "outputs": [],
   "source": [
    "# Post-processing\n",
    "def format_docs(docs):\n",
    "    return \"\\n\\n\".join(doc.page_content for doc in docs)\n"
   ]
  },
  {
   "cell_type": "code",
   "execution_count": 30,
   "metadata": {},
   "outputs": [],
   "source": [
    "# Chain\n",
    "chain = (\n",
    "    {\"context\": retriever | format_docs, \"question\": RunnablePassthrough()}\n",
    "    | prompt\n",
    "    | llm\n",
    "    | StrOutputParser()\n",
    ")"
   ]
  },
  {
   "cell_type": "code",
   "execution_count": 31,
   "metadata": {},
   "outputs": [
    {
     "data": {
      "text/plain": [
       "'The case involves a child (CCL) who was involved in an incident after attending a late-night party at a pub with friends, where his parents allowed him to consume liquor and use a Porsche car. The CCL became a victim of mob lynching and there are concerns about his safety if released on bail. The board is considering transferring his custody to an Observation Home due to neglected parenting and potential dangers to his life.'"
      ]
     },
     "execution_count": 31,
     "metadata": {},
     "output_type": "execute_result"
    }
   ],
   "source": [
    "# Run the chain\n",
    "chain.invoke(\"Give me a summary of the case\")\n"
   ]
  },
  {
   "cell_type": "code",
   "execution_count": 32,
   "metadata": {},
   "outputs": [],
   "source": [
    "question = \"What are the key legal issues in the case?\"\n"
   ]
  },
  {
   "cell_type": "code",
   "execution_count": 33,
   "metadata": {},
   "outputs": [
    {
     "name": "stdout",
     "output_type": "stream",
     "text": [
      "The key legal issue in the case appears to be the application of the Juvenile Justice Act to the accused, who is under 18 years old. The court must consider the provisions of the law and the doctrine of equality, which requires equal protection of the law for all individuals. The court must balance the public outcry for justice with the requirement to apply the law equally, regardless of the accused's age or the severity of the crime.\n"
     ]
    }
   ],
   "source": [
    "# Run the chain\n",
    "answer = chain.invoke(question)\n",
    "print(answer)"
   ]
  },
  {
   "cell_type": "code",
   "execution_count": 35,
   "metadata": {},
   "outputs": [
    {
     "name": "stdout",
     "output_type": "stream",
     "text": [
      "To resolve the case, an inquiry is directed to be launched for the appointment of a fit person or facility for the child. The child should be restored to the rehabilitation stage at the Observation Home Pune. An extension of the period of custody may be considered to facilitate the progress of investigation and to ensure the child's care, given that their parents and grandparents are in custody.\n"
     ]
    }
   ],
   "source": [
    "question = \"What are the steps that can be taken to resolve the case?\"\n",
    "answer = chain.invoke(question)\n",
    "print(answer)\n"
   ]
  },
  {
   "cell_type": "code",
   "execution_count": 34,
   "metadata": {},
   "outputs": [
    {
     "ename": "NameError",
     "evalue": "name 'tiktoken' is not defined",
     "output_type": "error",
     "traceback": [
      "\u001b[1;31m---------------------------------------------------------------------------\u001b[0m",
      "\u001b[1;31mNameError\u001b[0m                                 Traceback (most recent call last)",
      "Cell \u001b[1;32mIn[34], line 7\u001b[0m\n\u001b[0;32m      4\u001b[0m     num_tokens \u001b[38;5;241m=\u001b[39m \u001b[38;5;28mlen\u001b[39m(encoding\u001b[38;5;241m.\u001b[39mencode(string))\n\u001b[0;32m      5\u001b[0m     \u001b[38;5;28;01mreturn\u001b[39;00m num_tokens\n\u001b[1;32m----> 7\u001b[0m \u001b[43mnum_tokens_from_string\u001b[49m\u001b[43m(\u001b[49m\u001b[43mquestion\u001b[49m\u001b[43m,\u001b[49m\u001b[43m \u001b[49m\u001b[38;5;124;43m\"\u001b[39;49m\u001b[38;5;124;43mcl100k_base\u001b[39;49m\u001b[38;5;124;43m\"\u001b[39;49m\u001b[43m)\u001b[49m\n",
      "Cell \u001b[1;32mIn[34], line 3\u001b[0m, in \u001b[0;36mnum_tokens_from_string\u001b[1;34m(string, encoding_name)\u001b[0m\n\u001b[0;32m      2\u001b[0m \u001b[38;5;28;01mdef\u001b[39;00m \u001b[38;5;21mnum_tokens_from_string\u001b[39m(string: \u001b[38;5;28mstr\u001b[39m, encoding_name: \u001b[38;5;28mstr\u001b[39m) \u001b[38;5;241m-\u001b[39m\u001b[38;5;241m>\u001b[39m \u001b[38;5;28mint\u001b[39m:\n\u001b[1;32m----> 3\u001b[0m     encoding \u001b[38;5;241m=\u001b[39m \u001b[43mtiktoken\u001b[49m\u001b[38;5;241m.\u001b[39mget_encoding(encoding_name)\n\u001b[0;32m      4\u001b[0m     num_tokens \u001b[38;5;241m=\u001b[39m \u001b[38;5;28mlen\u001b[39m(encoding\u001b[38;5;241m.\u001b[39mencode(string))\n\u001b[0;32m      5\u001b[0m     \u001b[38;5;28;01mreturn\u001b[39;00m num_tokens\n",
      "\u001b[1;31mNameError\u001b[0m: name 'tiktoken' is not defined"
     ]
    }
   ],
   "source": [
    "# Token Count\n",
    "def num_tokens_from_string(string: str, encoding_name: str) -> int:\n",
    "    encoding = tiktoken.get_encoding(encoding_name)\n",
    "    num_tokens = len(encoding.encode(string))\n",
    "    return num_tokens\n",
    "\n",
    "num_tokens_from_string(question, \"cl100k_base\")"
   ]
  },
  {
   "cell_type": "code",
   "execution_count": 28,
   "metadata": {},
   "outputs": [
    {
     "name": "stdout",
     "output_type": "stream",
     "text": [
      "[-0.012645701877772808, 0.12642905116081238, -0.0020536242518574, -0.07646709680557251, -0.030324073508381844, 0.036024756729602814, -0.03804846107959747, 0.003914241679012775, -0.07140165567398071, 0.026665525510907173, 0.1237354502081871, 0.08873916417360306, -0.010214148089289665, -0.01460725162178278, 0.0297860037535429, 0.008222957141697407, 0.047784123569726944, -0.039985112845897675, -0.06159700080752373, 0.05284808203577995, 0.0032699282746762037, -0.04844236746430397, -0.07155179232358932, 0.02414419874548912, -0.012172140181064606, -0.006971366237848997, 0.0423533134162426, 0.0013341255253180861, 0.01751040108501911, -0.04286939278244972, 0.04814557358622551, -0.004849589895457029, 0.017639348283410072, -0.018458697944879532, -0.01192481815814972, -0.017791040241718292, 0.013409692794084549, -0.048316825181245804, -0.029044577851891518, -0.015002185478806496, 0.057077087461948395, -0.06384072452783585, 0.027742523699998856, -0.012836615554988384, -0.0061742221005260944, -0.020951690152287483, 0.031038302928209305, 0.013633928261697292, -0.017195656895637512, -0.023304207250475883, -0.047661688178777695, -0.08175323903560638, 0.019369224086403847, 0.09986156970262527, -0.08363106101751328, -0.09451211243867874, 0.02297983132302761, 0.06009932979941368, -0.013047460466623306, 0.012086804956197739, 0.09024956822395325, 0.0041776238940656185, -0.05386342108249664, -0.009663953445851803, 0.014326359145343304, -0.024393487721681595, 0.003230486297979951, -0.10843398422002792, 0.06509324908256531, 0.039023566991090775, 0.09305843710899353, -0.0646854117512703, -0.02991667576134205, 0.04058403521776199, -0.03596414998173714, -0.006600425112992525, -0.010637295432388783, 0.016952762380242348, 0.04604152590036392, -0.12185680866241455, -0.009491539560258389, -0.07777316868305206, -0.032651301473379135, -0.05526936426758766, -0.005685439798980951, -0.031882114708423615, -0.026588551700115204, 0.06905268877744675, -8.919464016798884e-05, 0.0004521326336544007, 0.06184276565909386, -0.06699328124523163, 0.1302792876958847, -0.06808359920978546, 0.045295391231775284, 0.03035164810717106, 0.027657995000481606, -0.04310010373592377, -0.015729868784546852, 0.02603698894381523, -0.006504781078547239, 0.061212167143821716, 0.026044663041830063, 0.019961964339017868, 0.02125358209013939, 0.032185692340135574, 0.031434785574674606, -0.02661891095340252, -0.055176131427288055, -0.02551417052745819, 0.010886264964938164, 0.04731127992272377, 0.02934974990785122, -0.02250083163380623, 0.03861301764845848, 0.058014534413814545, 0.024207742884755135, 0.06607365608215332, -0.00433014053851366, -0.06650520861148834, -0.023061366751790047, 0.03413189947605133, -0.07317618280649185, -0.02258811518549919, -0.07121708244085312, -0.04532371088862419, -0.07503583282232285, -3.794750332449694e-33, -0.020402926951646805, -0.031806591898202896, -0.10707924515008926, 0.03678951784968376, 0.09395348280668259, -0.015179706737399101, 0.0091391084715724, 0.031803276389837265, -0.047484271228313446, 0.10900459438562393, 0.07879874855279922, -0.042994026094675064, 0.04941043630242348, -0.08277161419391632, 0.003445772221311927, 0.012829945422708988, -0.04573938250541687, 0.08947036415338516, -0.043143875896930695, 0.08233645558357239, 0.06409867852926254, -0.055918414145708084, 0.006641163490712643, 0.10560353845357895, -0.10503822565078735, -0.0005211827228777111, 0.004304361529648304, -0.030760962516069412, 0.012329241260886192, -0.009231380186975002, -0.016966305673122406, 0.044390905648469925, 0.10793159902095795, 0.06120296195149422, 0.08559815585613251, 0.09863944351673126, -0.023149196058511734, 0.03312842547893524, -0.011411822400987148, 0.021407853811979294, -0.11856557428836823, -0.02051936835050583, 0.04777909070253372, 0.05060270056128502, -0.02094460092484951, 0.016736360266804695, -0.013634108938276768, -0.094456247985363, -0.06946113705635071, 0.09898222982883453, -0.02831759676337242, -0.032762084156274796, -0.03487323224544525, 0.011162849143147469, -0.024389691650867462, 0.015213330276310444, -0.028291769325733185, -0.029853297397494316, 0.050505463033914566, -0.017179233953356743, 0.06493603438138962, 0.05018508434295654, -0.030213097110390663, 0.033767566084861755, -0.04822565242648125, -0.011060132645070553, 0.0377805270254612, -0.06779869645833969, 0.01727876625955105, -0.13634178042411804, 0.009426860138773918, 0.03721574693918228, 0.009189765900373459, -0.01907471939921379, -0.01886691153049469, 0.0181273240596056, 0.00014041685790289193, -0.01717977412045002, 0.014257045462727547, -0.056196779012680054, -0.035943254828453064, -0.009798767976462841, 0.08550141751766205, 0.019039684906601906, -0.07442281395196915, 0.030380237847566605, -0.05241753160953522, 0.015623739920556545, -0.04082183912396431, 0.08184684813022614, -0.018708962947130203, 0.028597749769687653, -0.011829806491732597, 0.008123272098600864, 0.09175770729780197, 1.3263187248984335e-33, -0.057758498936891556, -0.10425256192684174, -0.0026382403448224068, -0.04282449930906296, 0.016985716298222542, -0.05738215148448944, -0.02169073559343815, 0.03974546492099762, 0.012226119637489319, -0.055107101798057556, -0.12775622308254242, -0.06186971440911293, 0.03613895922899246, 0.011023496277630329, -0.06714630126953125, -0.029830506071448326, -0.0007804879569448531, -0.06021307036280632, 0.02207634598016739, -0.005755470134317875, 0.03454747051000595, -0.012636913917958736, -0.008262298069894314, 0.06621966511011124, -0.008436879143118858, 0.06086767092347145, -0.05199837312102318, -0.10204395651817322, 0.018588509410619736, -0.024332378059625626, 0.04223799705505371, -0.0028821618761867285, -0.08114263415336609, 0.09778857231140137, -0.0735788345336914, -0.053528133779764175, 0.03754103556275368, 0.015196802094578743, 0.01830694079399109, -0.0011022560065612197, 0.08126324415206909, 0.06311137974262238, 0.070637546479702, 0.0584685392677784, 0.04600023105740547, -0.010873832739889622, 0.06500854343175888, -0.015107865445315838, 0.07243720442056656, 0.007599395699799061, 0.03212110325694084, -0.014398965984582901, 0.09066835045814514, -0.0054624248296022415, 0.004840553272515535, -0.00959680788218975, 0.010221755132079124, -0.026516610756516457, -0.015444045886397362, -0.019356485456228256, 0.10264965146780014, 0.014936414547264576, 0.015988769009709358, -0.005646867211908102, -0.029859423637390137, -0.016606632620096207, -0.07444697618484497, -0.02773362584412098, 0.012294790707528591, 0.03537376597523689, -0.03381548821926117, -0.12670370936393738, 0.0168111901730299, -0.07237999141216278, 0.10583057254552841, 0.006076213903725147, 0.04286652058362961, 0.005342353135347366, -0.04995166137814522, -0.009564273990690708, 0.02245069108903408, -0.02641153335571289, -0.024892110377550125, 0.043725255876779556, -0.013055778108537197, 0.0498717799782753, 0.09175422042608261, -0.07035114616155624, 0.04124629497528076, -0.026373261585831642, 0.008272355422377586, 0.04051825404167175, -0.014275492168962955, 0.07285818457603455, 0.024321889504790306, -1.8166385729045942e-08, -0.09090834110975266, 0.00026003303355537355, -0.03429220989346504, -0.0709323137998581, -0.054706282913684845, -0.040997155010700226, 0.014804688282310963, -0.04058009013533592, 0.00904847215861082, 0.11468976736068726, -0.040553294122219086, 0.039811812341213226, 0.0026020498480647802, -0.04474836587905884, -0.0732826367020607, -0.0005498710088431835, 0.02006927877664566, 0.02291153371334076, -0.021753456443548203, 0.06410627067089081, -0.07590034604072571, 0.006388481706380844, -0.005350757390260696, 0.015222044661641121, -0.03782251104712486, -0.015111864544451237, 0.02580282837152481, 0.04679038003087044, -0.02092696726322174, 0.08777294307947159, -0.0797908678650856, 0.09693586826324463, 0.04619235917925835, 0.017312681302428246, -0.11160890012979507, -0.11093728989362717, 0.007907922379672527, 0.03831377625465393, 0.005366217344999313, -0.06904643028974533, -0.0028214030899107456, 0.042362891137599945, -0.017023298889398575, 0.024763116613030434, -0.013245020993053913, -0.04465330019593239, -0.098282091319561, 0.04853637143969536, -0.0325920507311821, 0.07646577805280685, -0.07121439278125763, -0.053024180233478546, -0.011669587343931198, -0.021053006872534752, 0.03579629585146904, 0.0940437763929367, 0.0881839171051979, 0.029478859156370163, -0.053989287465810776, 0.03215748816728592, 0.024582600221037865, 0.03072289004921913, 0.09529173374176025, 0.03373735398054123]\n",
      "[-0.0157272107899189, 0.11719857156276703, -0.0531420074403286, -0.041513893753290176, 0.039572909474372864, 0.0701800286769867, -0.045725997537374496, 0.03703479468822479, -0.08818462491035461, 0.04529861360788345, 0.15032440423965454, 0.05663919448852539, -0.023313477635383606, 0.01773260347545147, 0.020194044336676598, 0.031032634899020195, 0.0870574489235878, 0.02445222996175289, -0.05988052859902382, -0.019932664930820465, 0.011830324307084084, -0.03703558072447777, 0.02585700899362564, -0.01544779073446989, -0.09673736244440079, 0.009068014100193977, -0.002607154194265604, -0.05216648057103157, -0.008303195238113403, 0.014459571801126003, 0.10679354518651962, 0.03052622452378273, 0.04132736474275589, -0.016271715983748436, 0.032242219895124435, 0.016112836077809334, 0.025945566594600677, -0.017585331574082375, -0.012460334226489067, -0.03476683795452118, 0.057485431432724, -0.014806408435106277, -0.051062677055597305, -0.03699355572462082, 0.012090041302144527, -0.07296642661094666, -0.025230733677744865, 0.014657614752650261, 0.0017628398491069674, -0.08671727031469345, -0.023923439905047417, -0.059604085981845856, 0.1052778884768486, 0.023985985666513443, -0.060252685099840164, -0.040307898074388504, -0.06952425092458725, 0.02790125086903572, 0.028995271772146225, 0.015617547556757927, 0.007124601397663355, 0.026976920664310455, -0.025402864441275597, -0.01013195514678955, 0.005996690597385168, -0.06657452136278152, 0.06085623800754547, -0.03561722859740257, 0.02112704887986183, 0.010405616834759712, 0.07192210108041763, 0.04069916158914566, -0.06096203625202179, -0.016071131452918053, -0.08280745148658752, 0.035624127835035324, -0.014724819920957088, 0.0011968021281063557, 0.11190108954906464, -0.07494425773620605, 0.007484209258109331, -0.07409526407718658, -0.01651463285088539, -0.0847848653793335, 0.015067344531416893, -0.08349332958459854, -0.0030773538164794445, -0.02868044190108776, -0.025143008679151535, 0.040640100836753845, 0.06776707619428635, -0.034044455736875534, 0.03549494221806526, -0.00937165692448616, 0.03689144179224968, 0.0294786486774683, -0.011105740442872047, 0.004584576468914747, -0.014689278788864613, -0.003867835970595479, -0.010168365202844143, 0.0307815819978714, 0.053027525544166565, 0.052817925810813904, 0.022630376741290092, -0.06670933216810226, 0.06111152097582817, -0.01087340246886015, -0.06543959677219391, 0.00587067473679781, 0.03668113052845001, 0.026344608515501022, 0.08358195424079895, 0.028257304802536964, 0.06533161550760269, -0.0007043945370242, 0.026401475071907043, 0.03384273871779442, -0.055069971829652786, -0.0613984540104866, 0.048943594098091125, 0.04523902013897896, -0.06599456816911697, 0.03887709975242615, -0.027168767526745796, -0.035895708948373795, -0.07533635199069977, -3.4740048061310804e-34, -0.02428106591105461, -0.05405663326382637, -0.12575803697109222, -0.0468054860830307, 0.0247107595205307, -0.014224088750779629, -0.004719842225313187, -0.04777910187840462, -0.06980659812688828, 0.0995221957564354, 0.0020896010100841522, -0.1331755667924881, 0.04250725731253624, -0.07307571172714233, 0.05855004861950874, 0.0627531185746193, -0.057791296392679214, 0.029580924659967422, -0.011004953645169735, 0.0402815006673336, 0.013358596712350845, -0.035437386482954025, 0.019267048686742783, 0.057101644575595856, -0.08086500316858292, -0.0303391944617033, 0.03453487157821655, -0.001589126419275999, 0.011375347152352333, -0.011798468418419361, 0.015072603709995747, 0.05470459908246994, 0.0022109057754278183, 0.07688421756029129, 0.010921390727162361, 0.036596108227968216, 0.028812335804104805, 0.028079241514205933, 0.009881843812763691, -0.006386389024555683, -0.07001611590385437, -0.0030607013031840324, -0.0065505909733474255, 0.0745362862944603, 0.06147990748286247, -0.0006195271853357553, -0.03184022009372711, -0.10615228116512299, -0.05617297440767288, 0.06626155972480774, 0.01865079440176487, 0.02321002259850502, -0.024581026285886765, -0.06227961927652359, -0.024172373116016388, 0.11824982613325119, -0.08226921409368515, 0.0104471230879426, -0.005308991298079491, 0.0021261642687022686, 0.08990699797868729, -0.06127600744366646, -0.06008046865463257, -0.036312997341156006, 0.001925615593791008, 0.029637163504958153, 0.10726029425859451, -0.02096228115260601, -0.00099726184271276, -0.10190516710281372, -0.006653026677668095, 0.029596464708447456, -0.0012412936193868518, 0.03314214199781418, -0.016976216807961464, -0.03964074328541756, 0.09390928596258163, -0.04795597121119499, -0.011109660379588604, -0.051328420639038086, -0.013120323419570923, -0.007948808372020721, 0.006125049665570259, -0.029599962756037712, -0.05358084663748741, -0.04910976439714432, -0.04713403061032295, -0.015302559360861778, 0.0345909409224987, 0.04032274708151817, 0.0370904766023159, -0.11836792528629303, -0.058389827609062195, 0.05958368629217148, 0.09373123198747635, -2.2165362088104987e-33, -0.0061623044312000275, -0.08944302797317505, -0.014046433381736279, -0.06001869961619377, 0.028129082173109055, -0.05091007053852081, -0.045067448168992996, 0.012155111879110336, -0.0060656010173261166, -0.05430448800325394, -0.15848912298679352, -0.059323035180568695, -0.019100023433566093, 0.04524596035480499, -0.014876549132168293, 0.041640013456344604, -0.0029100989922881126, 0.04554520174860954, -0.015814494341611862, -0.00317137292586267, 0.024340027943253517, 0.018817368894815445, -0.034275006502866745, 0.05133922025561333, 0.03665224835276604, 0.002229741308838129, -0.04365094006061554, -0.1339278668165207, -0.0011198405409231782, 0.03492339327931404, 0.025942716747522354, -0.03691011294722557, 0.07479596138000488, 0.017541633918881416, -0.09329632669687271, -0.07025888562202454, 0.10950864851474762, -0.09265447407960892, 0.03576629236340523, -0.005663034040480852, 0.026308104395866394, 0.026214348152279854, 0.04799828305840492, -0.02772323042154312, -0.0082583362236619, 0.05819694697856903, 0.027466146275401115, 0.06229164078831673, 0.0005801093648187816, -0.0560414083302021, -0.000301408494124189, 0.029187053442001343, 0.09223277866840363, 0.03391675278544426, 0.006914515979588032, -0.05104460194706917, 0.012703757733106613, -0.05409127473831177, -0.0264037624001503, 0.030506111681461334, 0.08545230329036713, -0.056120116263628006, -0.0543903186917305, -0.044075459241867065, -0.014789987355470657, 0.0127020962536335, -0.1472913771867752, -0.0770958736538887, -0.02629956416785717, 0.049427635967731476, -0.0013008191017434, -0.06959997117519379, -0.026767723262310028, -0.025863472372293472, -0.012265215627849102, -0.03407211974263191, 0.01559920608997345, 0.10750646144151688, -0.040437016636133194, -0.007683246862143278, 0.08310990780591965, 0.015201696194708347, -0.03907299041748047, -0.028063738718628883, -0.03446643427014351, 0.0032913184259086847, 0.0982779860496521, -0.0583883561193943, -0.03251994028687477, -0.018571412190794945, -0.007413889747112989, -0.053799036890268326, -0.013153383508324623, 0.05787477269768715, 0.005404000636190176, -3.805653392419117e-08, 0.04814320430159569, 0.0326026976108551, -0.041262079030275345, 0.0015911131631582975, -0.008961090818047523, 0.11847256869077682, -0.01256018877029419, -0.041781581938266754, 0.05233599245548248, 0.07043565809726715, 0.017135286703705788, 0.00964826438575983, 0.012307614088058472, -0.0633731484413147, -0.03919434919953346, -0.03796044737100601, 0.026166819036006927, -0.018563758581876755, -0.006566912867128849, 0.042262159287929535, 0.04294635355472565, 0.06776261329650879, -0.015523725189268589, 0.08038000762462616, -0.023012757301330566, -0.06945596635341644, 0.017726551741361618, -0.03029933199286461, -0.11058557778596878, 0.04933135211467743, -0.03942868113517761, 0.06476438790559769, 0.05384238064289093, 0.012438857927918434, -0.04177717864513397, -0.007944503799080849, -0.04233168438076973, 0.025652224197983742, -0.007126308977603912, -0.03351372107863426, -0.01443506684154272, -0.02803615853190422, -0.0024244114756584167, -0.016178764402866364, 0.05509362369775772, -0.010963380336761475, -0.07507119327783585, 0.04937871918082237, 0.023484013974666595, 0.08813182264566422, -0.06625986844301224, -0.03311380743980408, 0.01776677742600441, -0.03937259688973427, 0.13926100730895996, 0.07348127663135529, 0.08239645510911942, 0.0332416296005249, -0.03874905779957771, 0.004279416985809803, 0.09696085005998611, 0.0634160041809082, 0.08520005643367767, 0.0418890006840229]\n"
     ]
    }
   ],
   "source": [
    "# Text Embedding\n",
    "question_result = embedding.embed_query(question)  # Use existing 'embedding' instance\n",
    "print(question_result)\n",
    "answer_result = embedding.embed_query(answer)\n",
    "print(answer_result)\n"
   ]
  },
  {
   "cell_type": "code",
   "execution_count": 29,
   "metadata": {},
   "outputs": [
    {
     "name": "stdout",
     "output_type": "stream",
     "text": [
      "Cosine Similarity: 0.5714159648160456\n"
     ]
    }
   ],
   "source": [
    "def cosine_similarity(vec1, vec2):\n",
    "    dot_product = np.dot(vec1, vec2)\n",
    "    norm_vec1 = np.linalg.norm(vec1)\n",
    "    norm_vec2 = np.linalg.norm(vec2)\n",
    "    return dot_product / (norm_vec1 * norm_vec2)\n",
    "\n",
    "similarity = cosine_similarity(question_result, answer_result)\n",
    "print(\"Cosine Similarity:\", similarity)"
   ]
  }
 ],
 "metadata": {
  "kernelspec": {
   "display_name": "NomosAI",
   "language": "python",
   "name": "cuda"
  },
  "language_info": {
   "codemirror_mode": {
    "name": "ipython",
    "version": 3
   },
   "file_extension": ".py",
   "mimetype": "text/x-python",
   "name": "python",
   "nbconvert_exporter": "python",
   "pygments_lexer": "ipython3",
   "version": "3.10.11"
  }
 },
 "nbformat": 4,
 "nbformat_minor": 4
}
