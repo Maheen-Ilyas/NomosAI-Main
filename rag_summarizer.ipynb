{
 "cells": [
  {
   "cell_type": "code",
   "execution_count": 1,
   "metadata": {},
   "outputs": [],
   "source": [
    "from langchain.chains.summarize import load_summarize_chain\n",
    "from langchain_text_splitters import RecursiveCharacterTextSplitter\n",
    "from langchain.document_loaders import PyPDFLoader\n",
    "from langchain_huggingface.embeddings import HuggingFaceEmbeddings\n",
    "from langchain_community.vectorstores import Chroma\n",
    "from langchain_groq import ChatGroq"
   ]
  },
  {
   "cell_type": "code",
   "execution_count": 2,
   "metadata": {},
   "outputs": [],
   "source": [
    "# Laoding the document\n",
    "loader = PyPDFLoader(\"Documents/Porsche Case File.pdf\")\n",
    "pages = loader.load()"
   ]
  },
  {
   "cell_type": "code",
   "execution_count": null,
   "metadata": {},
   "outputs": [],
   "source": [
    "print(pages)"
   ]
  },
  {
   "cell_type": "code",
   "execution_count": 4,
   "metadata": {},
   "outputs": [],
   "source": [
    "# Split the document into chunks\n",
    "text_splitter = RecursiveCharacterTextSplitter(\n",
    "    chunk_size=1000,\n",
    "    chunk_overlap=200,\n",
    ")\n",
    "splits = text_splitter.split_documents(pages)"
   ]
  },
  {
   "cell_type": "code",
   "execution_count": 5,
   "metadata": {},
   "outputs": [],
   "source": [
    "embeddings = HuggingFaceEmbeddings(\n",
    "    model_name=\"sentence-transformers/all-MiniLM-L6-v2\",\n",
    ")"
   ]
  },
  {
   "cell_type": "code",
   "execution_count": 6,
   "metadata": {},
   "outputs": [
    {
     "name": "stdout",
     "output_type": "stream",
     "text": [
      "81\n"
     ]
    }
   ],
   "source": [
    "print(len(splits))"
   ]
  },
  {
   "cell_type": "code",
   "execution_count": 7,
   "metadata": {},
   "outputs": [],
   "source": [
    "persist_directory = \"chroma_db_summarizer\""
   ]
  },
  {
   "cell_type": "code",
   "execution_count": 8,
   "metadata": {},
   "outputs": [],
   "source": [
    "vectordb = Chroma.from_documents(\n",
    "    documents=splits,\n",
    "    embedding=embeddings,\n",
    "    persist_directory=persist_directory\n",
    ")"
   ]
  },
  {
   "cell_type": "code",
   "execution_count": 9,
   "metadata": {},
   "outputs": [
    {
     "name": "stderr",
     "output_type": "stream",
     "text": [
      "C:\\Users\\mahil\\AppData\\Local\\Temp\\ipykernel_18648\\1157268201.py:5: LangChainDeprecationWarning: The class `Chroma` was deprecated in LangChain 0.2.9 and will be removed in 1.0. An updated version of the class exists in the :class:`~langchain-chroma package and should be used instead. To use it run `pip install -U :class:`~langchain-chroma` and import as `from :class:`~langchain_chroma import Chroma``.\n",
      "  db = Chroma(\n"
     ]
    }
   ],
   "source": [
    "# Prepare the DB\n",
    "embeddings = HuggingFaceEmbeddings(\n",
    "    model_name=\"sentence-transformers/all-MiniLM-L6-v2\",\n",
    ")\n",
    "db = Chroma(\n",
    "    embedding_function=embeddings,\n",
    "    persist_directory=persist_directory\n",
    ")\n"
   ]
  },
  {
   "cell_type": "code",
   "execution_count": 10,
   "metadata": {},
   "outputs": [
    {
     "name": "stdout",
     "output_type": "stream",
     "text": [
      "[(Document(metadata={'page': 5, 'page_label': '6', 'source': 'Documents/Porsche Case File.pdf'}, page_content='A specific argument was advanced on behalf of the CCL that he was already released on bail\\nconsidering all the necessary aspects under the Act of 2015 and his mental, physical and social\\nWP-2372-2024.doc health was also impacted in the wake of the incident and his parents are capable\\nto care for him and to protect him and they have appointed a security team, outside the house to\\nensure his safety.\\nThe learned APP focused upon the aspect of amendment of the order, under Section 104 of the Act\\nand offered a clarification that the application is not intended to revoke the order passed earlier and\\nthe most highlighted aspects of the accident, were placed before the Board. It was also submitted\\nthat the wrong act of the CCL had created apprehensions in the mind of common people, who had\\nbecome doubtful about their safety, on the public road.\\nIt was also argued that after the incident, the CCL became a victim of mob lynching and if released'), 0.1956563188298054), (Document(metadata={'page': 5, 'page_label': '6', 'source': 'Documents/Porsche Case File.pdf'}, page_content='become doubtful about their safety, on the public road.\\nIt was also argued that after the incident, the CCL became a victim of mob lynching and if released\\non bail, there is a moral, physical and psychological danger posed to his life. Apart from this, the\\nboard was also appraised that the father of the CCL was arraigned as a co-accused and it is a case of\\nneglected parenting, and therefore, the custody of the CCL should be transferred to Observation\\nHome for his safety and rehabilitation.\\n9] It is in the backdrop of the facts placed before the Board, with an apprehension expressed by the\\nprosecution, the members of the board formed the following opinion:-\\n\"11 Further, after completion of examination of Std.12th on 17 th May 2024, the CCL\\nleft the house for making late night party with the friends in pub and parents allowed\\nhim to go to pub at late night to consume liquor and allowed to use a Porsche car to'), 0.13238703055311274), (Document(metadata={'page': 18, 'page_label': '19', 'source': 'Documents/Porsche Case File.pdf'}, page_content='for the victim and their families but as a Court of Law, we are bound to implement the law as it\\nstands.\\nLaw is an objective thing and there it stands, irrespective of whether it entails any hardship.\\nProvisions of law must be WP-2372-2024.doc applied equally to all and shall definitely treat\\neveryone equally, as the dominant approach of doctrine of equality is equal justice, which would\\nencompass equal protection of law. The administration of law should not degenerate into its\\nchoicest application in arduous and wary situations and it impermissible to have its inconsistent\\napplication, dependent upon who stands before us, and in what situation, justice is pleaded.\\n40] The outcry, as a knee jerk reaction to the accident, resulting into a clarion call of \"see the\\naccused\\'s action and not his age \", will have to be overlooked upon assimilating that the CCL is a\\nchild under the Juvenile Justice Act, being under 18 years and regardless of his crime, he must'), 0.12082429283505736)]\n"
     ]
    }
   ],
   "source": [
    "# Search the DB\n",
    "query = \"What is the detailed summary of the case?\"\n",
    "docs = db.similarity_search_with_relevance_scores(query, k=3)\n",
    "print(docs)\n"
   ]
  },
  {
   "cell_type": "code",
   "execution_count": 11,
   "metadata": {},
   "outputs": [
    {
     "name": "stdout",
     "output_type": "stream",
     "text": [
      "A specific argument was advanced on behalf of the CCL that he was already released on bail\n",
      "considering all the necessary aspects under the Act of 2015 and his mental, physical and social\n",
      "WP-2372-2024.doc health was also impacted in the wake of the incident and his parents are capable\n",
      "to care for him and to protect him and they have appointed a security team, outside the house to\n",
      "ensure his safety.\n",
      "The learned APP focused upon the aspect of amendment of the order, under Section 104 of the Act\n",
      "and offered a clarification that the application is not intended to revoke the order passed earlier and\n",
      "the most highlighted aspects of the accident, were placed before the Board. It was also submitted\n",
      "that the wrong act of the CCL had created apprehensions in the mind of common people, who had\n",
      "become doubtful about their safety, on the public road.\n",
      "It was also argued that after the incident, the CCL became a victim of mob lynching and if released\n",
      "\n",
      "---\n",
      "\n",
      "become doubtful about their safety, on the public road.\n",
      "It was also argued that after the incident, the CCL became a victim of mob lynching and if released\n",
      "on bail, there is a moral, physical and psychological danger posed to his life. Apart from this, the\n",
      "board was also appraised that the father of the CCL was arraigned as a co-accused and it is a case of\n",
      "neglected parenting, and therefore, the custody of the CCL should be transferred to Observation\n",
      "Home for his safety and rehabilitation.\n",
      "9] It is in the backdrop of the facts placed before the Board, with an apprehension expressed by the\n",
      "prosecution, the members of the board formed the following opinion:-\n",
      "\"11 Further, after completion of examination of Std.12th on 17 th May 2024, the CCL\n",
      "left the house for making late night party with the friends in pub and parents allowed\n",
      "him to go to pub at late night to consume liquor and allowed to use a Porsche car to\n",
      "\n",
      "---\n",
      "\n",
      "for the victim and their families but as a Court of Law, we are bound to implement the law as it\n",
      "stands.\n",
      "Law is an objective thing and there it stands, irrespective of whether it entails any hardship.\n",
      "Provisions of law must be WP-2372-2024.doc applied equally to all and shall definitely treat\n",
      "everyone equally, as the dominant approach of doctrine of equality is equal justice, which would\n",
      "encompass equal protection of law. The administration of law should not degenerate into its\n",
      "choicest application in arduous and wary situations and it impermissible to have its inconsistent\n",
      "application, dependent upon who stands before us, and in what situation, justice is pleaded.\n",
      "40] The outcry, as a knee jerk reaction to the accident, resulting into a clarion call of \"see the\n",
      "accused's action and not his age \", will have to be overlooked upon assimilating that the CCL is a\n",
      "child under the Juvenile Justice Act, being under 18 years and regardless of his crime, he must\n"
     ]
    }
   ],
   "source": [
    "# Extract just the documents from the (doc, score) tuples\n",
    "context_text = \"\\n\\n---\\n\\n\".join([doc[0].page_content for doc in docs])\n",
    "print(context_text)"
   ]
  },
  {
   "cell_type": "code",
   "execution_count": 15,
   "metadata": {},
   "outputs": [],
   "source": [
    "# LLM from Groq\n",
    "llm = ChatGroq(\n",
    "    model=\"llama-3.3-70b-versatile\",\n",
    "    temperature=0.7,\n",
    ")"
   ]
  },
  {
   "cell_type": "code",
   "execution_count": 16,
   "metadata": {},
   "outputs": [],
   "source": [
    "messages = [\n",
    "    {\n",
    "        \"role\": \"system\",\n",
    "        \"content\": \"You are a helpful assistant. Use the following context to answer the question.\"\n",
    "    },\n",
    "    {\n",
    "        \"role\": \"user\",\n",
    "        \"content\": f\"Context: {context_text}\\n\\nQuestion: {query}\"\n",
    "    }\n",
    "]"
   ]
  },
  {
   "cell_type": "code",
   "execution_count": 17,
   "metadata": {},
   "outputs": [
    {
     "name": "stdout",
     "output_type": "stream",
     "text": [
      "The case involves a Child in Conflict with Law (CCL) who was released on bail after an incident. The prosecution argued that the CCL's release on bail would pose a moral, physical, and psychological danger to his life due to the risk of mob lynching. The prosecution also highlighted the CCL's alleged negligence and reckless behavior, which led to the incident, and argued that his parents' ability to care for him was questionable.\n",
      "\n",
      "The CCL's defense argued that he was already released on bail, considering all necessary aspects under the Act of 2015, and that his mental, physical, and social health had been impacted by the incident. The defense also pointed out that the CCL's parents were capable of caring for him and had appointed a security team to ensure his safety.\n",
      "\n",
      "The court considered the arguments and the fact that the CCL had become a victim of mob lynching after the incident. The court also noted that the CCL's father was arraigned as a co-accused, raising concerns about neglected parenting.\n",
      "\n",
      "The court ultimately decided that, despite the outcry and public sentiment, the CCL must be treated as a child under the Juvenile Justice Act, being under 18 years old, and that his age and status as a child must be taken into account. The court emphasized the importance of equal justice and the equal protection of the law, regardless of the circumstances of the case.\n",
      "\n",
      "Key points in the case include:\n",
      "\n",
      "* The CCL was released on bail after an incident, but the prosecution argued that this posed a danger to his life.\n",
      "* The CCL's defense argued that he was already released on bail and that his parents were capable of caring for him.\n",
      "* The court considered the CCL's age and status as a child under the Juvenile Justice Act.\n",
      "* The court noted the concerns about neglected parenting and the risk of mob lynching.\n",
      "* The court ultimately decided that the CCL must be treated as a child and that his age and status must be taken into account.\n",
      "\n",
      "Overall, the case highlights the complexities of balancing public sentiment and the need for justice with the requirement to protect the rights and well-being of children in conflict with the law.\n"
     ]
    }
   ],
   "source": [
    "response = llm.invoke(messages)\n",
    "print(response.content)\n"
   ]
  }
 ],
 "metadata": {
  "kernelspec": {
   "display_name": "NomosAI",
   "language": "python",
   "name": "cuda"
  },
  "language_info": {
   "codemirror_mode": {
    "name": "ipython",
    "version": 3
   },
   "file_extension": ".py",
   "mimetype": "text/x-python",
   "name": "python",
   "nbconvert_exporter": "python",
   "pygments_lexer": "ipython3",
   "version": "3.10.11"
  }
 },
 "nbformat": 4,
 "nbformat_minor": 2
}
